{
 "cells": [
  {
   "cell_type": "markdown",
   "id": "e12ee604-c9bd-41d2-b8e7-043eecddc343",
   "metadata": {},
   "source": [
    "# Introduction to NumPy"
   ]
  },
  {
   "cell_type": "raw",
   "id": "c57f5ec0-10d9-4cbe-9506-149a3511087c",
   "metadata": {},
   "source": [
    "Module 1: Introduction to NumPy\n",
    "1.\tOverview of NumPy and its importance in business analytics\n",
    "2.\tInstalling and importing NumPy\n",
    "3.\tUnderstanding ndarray and its structure\n",
    "4.\tCreating arrays (from lists, tuples, and built-in functions)\n"
   ]
  },
  {
   "cell_type": "markdown",
   "id": "48202bd7-961e-4f12-82e2-49d3c6f9abf7",
   "metadata": {},
   "source": [
    "# 1.1 Overview"
   ]
  },
  {
   "cell_type": "raw",
   "id": "d69a504a-fae0-470b-a665-d6e70867d72e",
   "metadata": {},
   "source": [
    "NumPy is a powerful Python library for numerical and statistical data analysis. \n",
    "It provides high-performance multidimensional arrays and tools to perform complex mathematical operations efficiently. \n",
    "In business analytics, NumPy helps process large datasets quickly for tasks like trend analysis, forecasting, and optimization. \n",
    "Its vectorized operations make computations faster than traditional Python loops. \n",
    "Overall, it forms the foundation for data-driven decision-making in business."
   ]
  },
  {
   "cell_type": "markdown",
   "id": "1a290016-73ae-46dd-9f69-4b92cd04c5c4",
   "metadata": {},
   "source": [
    "# Why Use NumPy?"
   ]
  },
  {
   "cell_type": "raw",
   "id": "5ced04d2-5d52-4acc-ad2c-ce53921c65ef",
   "metadata": {},
   "source": [
    "-- Efficient handling of arrays and matrices: NumPy arrays are much faster than Python lists because of their efficient memory management.\n",
    "\n",
    "-- Vectorized operations: NumPy provides efficient operations over entire arrays without needing explicit loops.\n",
    "\n",
    "-- Mathematical functions: It has a vast collection of mathematical functions to perform operations on arrays (like linear algebra, statistics, etc.).\n",
    "\n",
    "-- Compatibility: It integrates well with other Python libraries such as Pandas, Matplotlib, and SciPy.\n"
   ]
  },
  {
   "cell_type": "markdown",
   "id": "05c2358f-a2b6-4ecb-9148-e63dcd6121e3",
   "metadata": {},
   "source": [
    "# 1.2. Installing NumPy"
   ]
  },
  {
   "cell_type": "code",
   "execution_count": 1,
   "id": "544029d2-f6da-45a5-8cf0-7b63bf4f62a1",
   "metadata": {},
   "outputs": [
    {
     "name": "stdout",
     "output_type": "stream",
     "text": [
      "Requirement already satisfied: numpy in c:\\users\\nhasa\\anaconda3\\lib\\site-packages (2.1.3)\n",
      "Note: you may need to restart the kernel to use updated packages.\n"
     ]
    }
   ],
   "source": [
    "pip install numpy"
   ]
  },
  {
   "cell_type": "markdown",
   "id": "45eb94ad-0bab-4c84-9389-3ea18e345863",
   "metadata": {},
   "source": [
    "# 1.3. Understanding ndarray and its structure"
   ]
  },
  {
   "cell_type": "raw",
   "id": "e632c9c2-7506-43fa-a8aa-e547321a6834",
   "metadata": {},
   "source": [
    "An ndarray (n-dimensional array) is the core data structure of NumPy used to store numerical data efficiently. \n",
    "It can hold elements of the same data type in a grid-like format with one or more dimensions. \n",
    "Each dimension is called an axis, and the number of axes defines the array’s rank (e.g., 1D, 2D, or 3D). \n",
    "The ndarray has attributes like shape, size, and dtype that describe its structure. \n",
    "This uniform, compact design allows for fast computation and easy manipulation of large datasets."
   ]
  },
  {
   "cell_type": "markdown",
   "id": "13b8f219-6a63-4140-8b13-2ed39d7b46c7",
   "metadata": {},
   "source": [
    "# 1.4. Creating arrays (from lists, tuples, and built-in functions)"
   ]
  },
  {
   "cell_type": "code",
   "execution_count": 2,
   "id": "617c9665-5b01-432c-b309-6c721dae4cbc",
   "metadata": {},
   "outputs": [
    {
     "name": "stdout",
     "output_type": "stream",
     "text": [
      "[1 2 3 4 5]\n"
     ]
    }
   ],
   "source": [
    "# From a Python list\n",
    "# Creating a 1D Array (Matrix)\n",
    "\n",
    "import numpy as np\n",
    "\n",
    "arr = np.array([1, 2, 3, 4, 5])\n",
    "print(arr)  # Output: [1 2 3 4 5]"
   ]
  },
  {
   "cell_type": "code",
   "execution_count": 3,
   "id": "d18600fb-f5d5-4bff-9270-40842de96997",
   "metadata": {},
   "outputs": [
    {
     "name": "stdout",
     "output_type": "stream",
     "text": [
      "[[1 2 3]\n",
      " [4 5 6]]\n"
     ]
    }
   ],
   "source": [
    "# Creating a 2D Array (Matrix)\n",
    "\n",
    "arr_2d = np.array([[1, 2, 3], [4, 5, 6]])\n",
    "print(arr_2d)"
   ]
  },
  {
   "cell_type": "code",
   "execution_count": 4,
   "id": "f45fd753-51ab-4386-84b0-6bc58601b2c8",
   "metadata": {},
   "outputs": [
    {
     "name": "stdout",
     "output_type": "stream",
     "text": [
      "[[0. 0. 0.]\n",
      " [0. 0. 0.]]\n"
     ]
    }
   ],
   "source": [
    "# Creating Arrays with Functions\n",
    "\n",
    "zeros_arr = np.zeros((2, 3))  # 2x3 array of zeros\n",
    "ones_arr = np.ones((3, 3))    # 3x3 array of ones\n",
    "range_arr = np.arange(0, 10, 2)  # Array from 0 to 10 with a step of 2\n",
    "linspace_arr = np.linspace(0, 1, 5)  # 5 evenly spaced numbers between 0 and 1\n",
    "\n",
    "print(zeros_arr)"
   ]
  },
  {
   "cell_type": "code",
   "execution_count": 5,
   "id": "e0e2839d-4c4d-4452-9d58-f71a2481936e",
   "metadata": {},
   "outputs": [
    {
     "name": "stdout",
     "output_type": "stream",
     "text": [
      "[[1. 1. 1.]\n",
      " [1. 1. 1.]\n",
      " [1. 1. 1.]]\n"
     ]
    }
   ],
   "source": [
    "print(ones_arr)"
   ]
  },
  {
   "cell_type": "code",
   "execution_count": 6,
   "id": "7887f2b2-575b-497e-a6aa-4be1e3fe559b",
   "metadata": {},
   "outputs": [
    {
     "name": "stdout",
     "output_type": "stream",
     "text": [
      "[0 2 4 6 8]\n"
     ]
    }
   ],
   "source": [
    "print(range_arr)"
   ]
  },
  {
   "cell_type": "code",
   "execution_count": 7,
   "id": "cad0d8c5-62f7-401f-b319-db22ab11b112",
   "metadata": {},
   "outputs": [
    {
     "name": "stdout",
     "output_type": "stream",
     "text": [
      "[0.   0.25 0.5  0.75 1.  ]\n"
     ]
    }
   ],
   "source": [
    "print(linspace_arr)"
   ]
  },
  {
   "cell_type": "code",
   "execution_count": 8,
   "id": "152de51a-030c-4d44-9750-ef18be0ce699",
   "metadata": {},
   "outputs": [],
   "source": [
    "zeros = np.zeros((3, 3))                # 3x3 zeros matrix\n",
    "ones = np.ones((2, 4))                  # 2x4 ones matrix\n",
    "identity = np.eye(3)                    # Identity matrix\n",
    "range_arr = np.arange(0, 10, 2)         # [0, 2, 4, 6, 8]\n",
    "linspace = np.linspace(0, 1, 5)         # [0.0, 0.25, 0.5, 0.75, 1.0]\n",
    "random_arr = np.random.rand(2, 3)       # Random values (0-1)"
   ]
  },
  {
   "cell_type": "code",
   "execution_count": 9,
   "id": "6c7278c2-6f81-4b93-b466-b3ba2d3e9cb5",
   "metadata": {},
   "outputs": [
    {
     "name": "stdout",
     "output_type": "stream",
     "text": [
      "[[0. 0. 0.]\n",
      " [0. 0. 0.]\n",
      " [0. 0. 0.]]\n",
      "[[1. 1. 1. 1.]\n",
      " [1. 1. 1. 1.]]\n",
      "[[1. 0. 0.]\n",
      " [0. 1. 0.]\n",
      " [0. 0. 1.]]\n",
      "[0 2 4 6 8]\n",
      "[0.   0.25 0.5  0.75 1.  ]\n",
      "[[0.37141507 0.99942232 0.06040848]\n",
      " [0.68986753 0.93638736 0.62317336]]\n"
     ]
    }
   ],
   "source": [
    "print(zeros)\n",
    "print(ones)\n",
    "print(identity)\n",
    "print(range_arr)\n",
    "print(linspace)\n",
    "print(random_arr)"
   ]
  },
  {
   "cell_type": "raw",
   "id": "8050f386-bafa-435d-964f-55ded48e1ef5",
   "metadata": {},
   "source": [
    "Module 2: Array Operations and Manipulation\n",
    "1.\tArray attributes (shape, size, dtype, ndim)\n",
    "2.\tIndexing, slicing, and subsetting arrays\n",
    "3.\tCopy vs view — understanding memory behavior\n",
    "4.\tReshaping, flattened arrays\n"
   ]
  },
  {
   "cell_type": "markdown",
   "id": "1e620d76-cc31-40b9-b20e-ed7107a28d70",
   "metadata": {},
   "source": [
    "# 2.1. Array Operations and Manipulation"
   ]
  },
  {
   "cell_type": "code",
   "execution_count": 10,
   "id": "4cfe4181-1fc9-4a04-8973-3b8794cee639",
   "metadata": {},
   "outputs": [
    {
     "name": "stdout",
     "output_type": "stream",
     "text": [
      "(2, 3)\n",
      "2\n",
      "6\n",
      "int64\n"
     ]
    }
   ],
   "source": [
    "#\tArray attributes (shape, size, dtype, ndim)\n",
    "\n",
    "arr = np.array([[1, 2, 3], [4, 5, 6]])\n",
    "\n",
    "print(arr.shape)   # (2, 3) → 2 rows, 3 columns\n",
    "print(arr.ndim)    # 2 → dimensions\n",
    "print(arr.size)    # 6 → total elements\n",
    "print(arr.dtype)   # int64 → data type"
   ]
  },
  {
   "cell_type": "markdown",
   "id": "1394ae72-9aca-4728-a677-0459d9fcf82d",
   "metadata": {},
   "source": [
    "# 2.2. Indexing, slicing, and subsetting arrays"
   ]
  },
  {
   "cell_type": "code",
   "execution_count": 11,
   "id": "42fde2b6-b20e-49c9-bc72-773a3109b9e6",
   "metadata": {},
   "outputs": [
    {
     "name": "stdout",
     "output_type": "stream",
     "text": [
      "10\n",
      "[20 30 40]\n",
      "6\n",
      "[2 5]\n"
     ]
    }
   ],
   "source": [
    "# Indexing & Slicing\n",
    "\n",
    "arr = np.array([10, 20, 30, 40, 50])\n",
    "print(arr[0])       # 10 (first element)\n",
    "print(arr[1:4])     # [20 30 40] (slicing) # # Slicing elements from index 1 to 3\n",
    "\n",
    "matrix = np.array([[1, 2, 3], [4, 5, 6]])\n",
    "print(matrix[1, 2])  # 6 (row 1, column 2)\n",
    "print(matrix[:, 1])  # [2 5] (all rows, column 1)"
   ]
  },
  {
   "cell_type": "code",
   "execution_count": 12,
   "id": "0e3700af-72c7-4d29-8f3e-24aa33ffabef",
   "metadata": {},
   "outputs": [
    {
     "name": "stdout",
     "output_type": "stream",
     "text": [
      "6\n",
      "[4 5 6]\n",
      "[2 5 8]\n",
      "[[1 2]\n",
      " [4 5]]\n"
     ]
    }
   ],
   "source": [
    "# subsetting arrays\n",
    "\n",
    "import numpy as np\n",
    "\n",
    "# Create a 2D NumPy array\n",
    "arr = np.array([[1, 2, 3], \n",
    "                [4, 5, 6], \n",
    "                [7, 8, 9]])\n",
    "\n",
    "# Subset the array to get a single element\n",
    "single_element = arr[1, 2]  # Output: 6 (element at row 1, column 2)\n",
    "\n",
    "# Subset the array to get a specific row\n",
    "row_subset = arr[1, :]  # Output: [4, 5, 6] (all columns of row 1)\n",
    "\n",
    "# Subset the array to get a specific column\n",
    "column_subset = arr[:, 1]  # Output: [2, 5, 8] (all rows of column 1)\n",
    "\n",
    "# Subset the array using slicing (getting a sub-array)\n",
    "sub_array = arr[0:2, 0:2]  # Output: [[1, 2], [4, 5]] (first 2 rows, first 2 columns)\n",
    "\n",
    "print(single_element)\n",
    "print(row_subset)\n",
    "print(column_subset)\n",
    "print(sub_array)\n"
   ]
  },
  {
   "cell_type": "markdown",
   "id": "01f24d8a-02e1-4243-996c-147e27b9275e",
   "metadata": {},
   "source": [
    "# 2.3. Copy and View"
   ]
  },
  {
   "cell_type": "code",
   "execution_count": 13,
   "id": "283b8294-351a-40be-bdf9-3406f8c35e7b",
   "metadata": {},
   "outputs": [
    {
     "name": "stdout",
     "output_type": "stream",
     "text": [
      "[1 2 3 4]\n",
      "[10  2  3  4]\n"
     ]
    }
   ],
   "source": [
    "# Copy\n",
    "\n",
    "import numpy as np\n",
    "arr = np.array([1, 2, 3, 4])\n",
    "arr_copy = arr.copy()  # Creating a copy\n",
    "\n",
    "arr_copy[0] = 10\n",
    "print(arr)  # Output: [1, 2, 3, 4] (original array is unchanged)\n",
    "print(arr_copy)  # Output: [10, 2, 3, 4] (copy is changed)\n"
   ]
  },
  {
   "cell_type": "code",
   "execution_count": 14,
   "id": "0ec3ea7e-fed3-4ce0-a0c3-b65d45d9c1b4",
   "metadata": {},
   "outputs": [
    {
     "name": "stdout",
     "output_type": "stream",
     "text": [
      "[10  2  3  4]\n",
      "[10  2  3  4]\n"
     ]
    }
   ],
   "source": [
    "# View\n",
    "\n",
    "arr = np.array([1, 2, 3, 4])\n",
    "arr_view = arr.view()  # Creating a view\n",
    "\n",
    "arr_view[0] = 10\n",
    "print(arr)  # Output: [10, 2, 3, 4] (original array is changed)\n",
    "print(arr_view)  # Output: [10, 2, 3, 4] (view reflects the change)\n"
   ]
  },
  {
   "cell_type": "raw",
   "id": "88ec5613-f9d0-4617-98fe-8f97e621c036",
   "metadata": {},
   "source": [
    "Copy creates a new array with independent memory, while view creates a new array object that points to the same memory as the original array."
   ]
  },
  {
   "cell_type": "markdown",
   "id": "5b78069d-a0dd-452b-97c5-9bf2519d4c87",
   "metadata": {},
   "source": [
    "# 2.4. Reshaping, Flattened arrays"
   ]
  },
  {
   "cell_type": "code",
   "execution_count": 15,
   "id": "6dd01fad-b1da-4d0b-b3da-25453e1ef39c",
   "metadata": {},
   "outputs": [
    {
     "name": "stdout",
     "output_type": "stream",
     "text": [
      "[[1 2 3]\n",
      " [4 5 6]\n",
      " [7 8 9]]\n"
     ]
    }
   ],
   "source": [
    "# Reshaping Arrays\n",
    "\n",
    "arr = np.arange(1, 10)  # [1 2 3 4 5 6 7 8 9]\n",
    "reshaped = arr.reshape(3, 3)\n",
    "print(reshaped)\n",
    "# Output:\n",
    "# [[1 2 3]\n",
    "#  [4 5 6]\n",
    "#  [7 8 9]]"
   ]
  },
  {
   "cell_type": "code",
   "execution_count": 16,
   "id": "bc7eb115-ef8c-41ac-8800-4e38fc7e2ca7",
   "metadata": {},
   "outputs": [],
   "source": [
    "# Reshaping & Flattened\n",
    "\n",
    "arr = np.arange(1, 10)  # [1, 2, 3, 4, 5, 6, 7, 8, 9]\n",
    "reshaped = arr.reshape(3, 3)  # 3x3 matrix\n",
    "flattened = reshaped.flatten() # Back to 1D"
   ]
  },
  {
   "cell_type": "code",
   "execution_count": 17,
   "id": "837eb1a4-9ec5-4cd4-be98-3e594ee6c6ac",
   "metadata": {},
   "outputs": [
    {
     "name": "stdout",
     "output_type": "stream",
     "text": [
      "[[1 2 3]\n",
      " [4 5 6]\n",
      " [7 8 9]]\n",
      "[1 2 3 4 5 6 7 8 9]\n"
     ]
    }
   ],
   "source": [
    "print(reshaped)\n",
    "print(flattened)"
   ]
  },
  {
   "cell_type": "raw",
   "id": "ca7f05b0-b5b5-4d5e-a3c9-8c6863453c36",
   "metadata": {},
   "source": [
    "Module 3: Numerical Operations\n",
    "1.\tElement-wise arithmetic and broadcasting\n",
    "2.\tAggregation functions (sum, mean, median, std, var)\n",
    "3.\tLogical and comparison operations\n",
    "4.\tWorking with NaN and missing values\n"
   ]
  },
  {
   "cell_type": "markdown",
   "id": "62c55b89-db39-41e7-98d0-8344afbab9c8",
   "metadata": {},
   "source": [
    "# 3.1.\tElement-wise arithmetic and broadcasting"
   ]
  },
  {
   "cell_type": "raw",
   "id": "4a34f0c4-d680-4eeb-975f-bbc6f71a0a17",
   "metadata": {},
   "source": [
    "Element-wise Arithmetic:\n",
    "\n",
    "Element-wise arithmetic operations in NumPy allow you to perform calculations on arrays element by element. This means that operations like addition, subtraction, multiplication, and division are applied to each corresponding element in the arrays."
   ]
  },
  {
   "cell_type": "code",
   "execution_count": 18,
   "id": "9b83e57a-9620-44a9-aae0-6624ce39033e",
   "metadata": {},
   "outputs": [
    {
     "name": "stdout",
     "output_type": "stream",
     "text": [
      "[5 7 9]\n",
      "[-3 -3 -3]\n",
      "[ 4 10 18]\n",
      "[0.25 0.4  0.5 ]\n"
     ]
    }
   ],
   "source": [
    "import numpy as np\n",
    "\n",
    "# Create two arrays\n",
    "A = np.array([1, 2, 3])\n",
    "B = np.array([4, 5, 6])\n",
    "\n",
    "# Element-wise addition\n",
    "sum_array = A + B  # Output: [5, 7, 9]\n",
    "\n",
    "# Element-wise subtraction\n",
    "diff_array = A - B  # Output: [-3, -3, -3]\n",
    "\n",
    "# Element-wise multiplication\n",
    "prod_array = A * B  # Output: [4, 10, 18]\n",
    "\n",
    "# Element-wise division\n",
    "div_array = A / B  # Output: [0.25, 0.4, 0.5]\n",
    "\n",
    "print(sum_array)\n",
    "print(diff_array)\n",
    "print(prod_array)\n",
    "print(div_array)\n"
   ]
  },
  {
   "cell_type": "raw",
   "id": "ae7bd8f7-e4c3-4f91-b5c1-c656cd2c9c5e",
   "metadata": {},
   "source": [
    "Broadcasting:\n",
    "\n",
    "Broadcasting is a feature in NumPy that allows you to perform element-wise arithmetic operations on arrays of different shapes and sizes. It automatically expands the smaller array to match the shape of the larger array without copying data, making it computationally efficient."
   ]
  },
  {
   "cell_type": "code",
   "execution_count": 19,
   "id": "b6c4c257-a16c-49b3-bd48-b31fa2344ceb",
   "metadata": {},
   "outputs": [
    {
     "name": "stdout",
     "output_type": "stream",
     "text": [
      "[[11 22 33]\n",
      " [14 25 36]]\n"
     ]
    }
   ],
   "source": [
    "import numpy as np\n",
    "\n",
    "# Create a 2D array and a 1D array\n",
    "A = np.array([[1, 2, 3], [4, 5, 6]])  # Shape (2, 3)\n",
    "B = np.array([10, 20, 30])  # Shape (3,)\n",
    "\n",
    "# Broadcasting arr2 to match the shape of arr1\n",
    "result = A + B  # Broadcasting happens here\n",
    "print(result)\n"
   ]
  },
  {
   "cell_type": "raw",
   "id": "8a5e1649-0774-484b-a158-c313653ec6dd",
   "metadata": {},
   "source": [
    "Element-wise operations are simple arithmetic operations performed on each element of the arrays.\n",
    "\n",
    "Broadcasting enables element-wise operations on arrays with different shapes, expanding the smaller array to match the dimensions of the larger array for efficient computation."
   ]
  },
  {
   "cell_type": "markdown",
   "id": "840b877b-a83e-4c46-a9c3-f1f012698071",
   "metadata": {},
   "source": [
    "# 3.2 Aggregation functions (sum, mean, median, std, var)"
   ]
  },
  {
   "cell_type": "code",
   "execution_count": 20,
   "id": "a4698f11-e7f5-4795-a354-b14c78a0aac3",
   "metadata": {},
   "outputs": [],
   "source": [
    "# Common \n",
    "# np.function_name(array, axis=None)\n"
   ]
  },
  {
   "cell_type": "code",
   "execution_count": 21,
   "id": "eca3b21d-3342-4aae-968b-59bef019922b",
   "metadata": {},
   "outputs": [
    {
     "name": "stdout",
     "output_type": "stream",
     "text": [
      "15\n",
      "15\n"
     ]
    }
   ],
   "source": [
    "import numpy as np\n",
    "\n",
    "# Sum - np.sum()\n",
    "\n",
    "arr = np.array([1, 2, 3, 4, 5])\n",
    "\n",
    "print(np.sum(arr))          # 15 (sum of all elements)\n",
    "print(np.sum(arr, axis=0))  # Sum along specified axis"
   ]
  },
  {
   "cell_type": "code",
   "execution_count": 22,
   "id": "689cf1b5-6ad3-4fd7-a8ea-277ff0786a66",
   "metadata": {},
   "outputs": [
    {
     "name": "stdout",
     "output_type": "stream",
     "text": [
      "3.0\n",
      "3.0\n"
     ]
    }
   ],
   "source": [
    "# Mean - `np.mean()\n",
    "\n",
    "arr = np.array([1, 2, 3, 4, 5])\n",
    "\n",
    "print(np.mean(arr))         # 3.0 (average)\n",
    "print(np.mean(arr, axis=0)) # Mean along specified axis"
   ]
  },
  {
   "cell_type": "code",
   "execution_count": 23,
   "id": "13cc9287-bfb5-4d98-b4aa-dd53f7f58296",
   "metadata": {},
   "outputs": [
    {
     "name": "stdout",
     "output_type": "stream",
     "text": [
      "3.5\n"
     ]
    }
   ],
   "source": [
    "# Median - `np.median()\n",
    "\n",
    "arr = np.array([1, 2, 3, 4, 5, 100])  # Outlier included\n",
    "\n",
    "print(np.median(arr))       # 3.5 (robust to outliers)"
   ]
  },
  {
   "cell_type": "code",
   "execution_count": 24,
   "id": "1eabbd39-934f-4b47-9e95-dfe2be3dbb4d",
   "metadata": {},
   "outputs": [
    {
     "name": "stdout",
     "output_type": "stream",
     "text": [
      "1.4142135623730951\n"
     ]
    }
   ],
   "source": [
    "# Standard Deviation - `np.std()\n",
    "\n",
    "arr = np.array([1, 2, 3, 4, 5])\n",
    "\n",
    "print(np.std(arr))          # 1.414 (spread of data)"
   ]
  },
  {
   "cell_type": "code",
   "execution_count": 25,
   "id": "0b203a25-e1a9-4941-963e-f9fd897b84e6",
   "metadata": {},
   "outputs": [
    {
     "name": "stdout",
     "output_type": "stream",
     "text": [
      "2.0\n"
     ]
    }
   ],
   "source": [
    "# Variance - `np.var()\n",
    "\n",
    "arr = np.array([1, 2, 3, 4, 5])\n",
    "\n",
    "print(np.var(arr))          # 2.0 (squared standard deviation)"
   ]
  },
  {
   "cell_type": "markdown",
   "id": "95431642-47f6-4922-bb86-c96fd9810175",
   "metadata": {},
   "source": [
    "# 2D Array Examples with Axis Parameter"
   ]
  },
  {
   "cell_type": "code",
   "execution_count": 26,
   "id": "31b1ec52-74a2-4c17-acb1-abfd35a2e790",
   "metadata": {},
   "outputs": [
    {
     "name": "stdout",
     "output_type": "stream",
     "text": [
      "Sum axis=0: [12 15 18]\n",
      "Mean axis=0: [4. 5. 6.]\n",
      "Std axis=0: [2.44948974 2.44948974 2.44948974]\n",
      "Sum axis=1: [ 6 15 24]\n",
      "Mean axis=1: [2. 5. 8.]\n"
     ]
    }
   ],
   "source": [
    "arr_2d = np.array([[1, 2, 3],\n",
    "                   [4, 5, 6],\n",
    "                   [7, 8, 9]])\n",
    "\n",
    "# axis=0 (down columns)\n",
    "print(\"Sum axis=0:\", np.sum(arr_2d, axis=0))      # [12, 15, 18]\n",
    "print(\"Mean axis=0:\", np.mean(arr_2d, axis=0))    # [4., 5., 6.]\n",
    "print(\"Std axis=0:\", np.std(arr_2d, axis=0))      # [2.45, 2.45, 2.45]\n",
    "\n",
    "# axis=1 (across rows)\n",
    "print(\"Sum axis=1:\", np.sum(arr_2d, axis=1))      # [6, 15, 24]\n",
    "print(\"Mean axis=1:\", np.mean(arr_2d, axis=1))    # [2., 5., 8.]"
   ]
  },
  {
   "cell_type": "code",
   "execution_count": 27,
   "id": "64c52be1-648b-44b7-b458-c22d23529409",
   "metadata": {},
   "outputs": [
    {
     "name": "stdout",
     "output_type": "stream",
     "text": [
      "1\n",
      "5\n",
      "1\n",
      "4\n"
     ]
    }
   ],
   "source": [
    "# Minimum & Maximum\n",
    "\n",
    "arr = np.array([3, 1, 4, 1, 5])\n",
    "\n",
    "print(np.min(arr))          # 1\n",
    "print(np.max(arr))          # 5\n",
    "print(np.argmin(arr))       # 1 (index of minimum)\n",
    "print(np.argmax(arr))       # 4 (index of maximum)"
   ]
  },
  {
   "cell_type": "code",
   "execution_count": 28,
   "id": "660dce1c-0bc4-400c-b29a-1bea1e0f73bf",
   "metadata": {},
   "outputs": [
    {
     "name": "stdout",
     "output_type": "stream",
     "text": [
      "24\n"
     ]
    }
   ],
   "source": [
    "# Product\n",
    "\n",
    "arr = np.array([1, 2, 3, 4])\n",
    "\n",
    "print(np.prod(arr))         # 24 (1*2*3*4)"
   ]
  },
  {
   "cell_type": "code",
   "execution_count": 29,
   "id": "57571998-12a9-4b14-a569-9ab97abdd3b7",
   "metadata": {},
   "outputs": [
    {
     "name": "stdout",
     "output_type": "stream",
     "text": [
      "3.0\n",
      "2.0\n"
     ]
    }
   ],
   "source": [
    "# Percentile\n",
    "\n",
    "arr = np.array([1, 2, 3, 4, 5])\n",
    "\n",
    "print(np.percentile(arr, 50))  # 3.0 (50th percentile = median)\n",
    "print(np.percentile(arr, 25))  # 2.0 (25th percentile)"
   ]
  },
  {
   "cell_type": "markdown",
   "id": "bf1c5c60-0711-4a06-a4fd-b8dff2494ea2",
   "metadata": {},
   "source": [
    "# Practical Example: Student Grades Analysis"
   ]
  },
  {
   "cell_type": "code",
   "execution_count": 30,
   "id": "20c0eff7-38ac-4b00-8bd9-661b54f30524",
   "metadata": {},
   "outputs": [
    {
     "name": "stdout",
     "output_type": "stream",
     "text": [
      "Subject means: [85.25 86.25 86.  ]\n",
      "Student means: [84.33333333 88.         82.66666667 88.33333333]\n",
      "Overall mean: 85.83333333333333\n",
      "Subject std: [5.88960949 3.03108891 5.47722558]\n"
     ]
    }
   ],
   "source": [
    "# Student grades for 3 subjects across 4 students\n",
    "grades = np.array([[85, 90, 78],\n",
    "                   [92, 88, 84],\n",
    "                   [76, 82, 90],\n",
    "                   [88, 85, 92]])\n",
    "\n",
    "print(\"Subject means:\", np.mean(grades, axis=0))    # Average per subject\n",
    "print(\"Student means:\", np.mean(grades, axis=1))    # Average per student\n",
    "print(\"Overall mean:\", np.mean(grades))             # Overall average\n",
    "print(\"Subject std:\", np.std(grades, axis=0))       # Variability per subject"
   ]
  },
  {
   "cell_type": "markdown",
   "id": "2ac3c5f6-f8d6-403d-b17d-c6fbad06d7ab",
   "metadata": {},
   "source": [
    "# 3.3 Logical and Comparison Operations"
   ]
  },
  {
   "cell_type": "code",
   "execution_count": 31,
   "id": "fab8e670-9e2d-4478-b9b8-5aaecea0bddc",
   "metadata": {},
   "outputs": [
    {
     "name": "stdout",
     "output_type": "stream",
     "text": [
      "Equal: [False False  True False False]\n",
      "Not equal: [ True  True False  True  True]\n",
      "Greater than: [False False False  True  True]\n",
      "Less than: [ True  True False False False]\n",
      "Greater or equal: [False False  True  True  True]\n"
     ]
    }
   ],
   "source": [
    "# Basic Comparison Operators\n",
    "\n",
    "import numpy as np\n",
    "\n",
    "arr1 = np.array([1, 2, 3, 4, 5])\n",
    "arr2 = np.array([5, 4, 3, 2, 1])\n",
    "\n",
    "# Element-wise comparisons\n",
    "print(\"Equal:\", arr1 == arr2)           # [False, False, True, False, False]\n",
    "print(\"Not equal:\", arr1 != arr2)       # [True, True, False, True, True]\n",
    "print(\"Greater than:\", arr1 > arr2)     # [False, False, False, True, True]\n",
    "print(\"Less than:\", arr1 < arr2)        # [True, True, False, False, False]\n",
    "print(\"Greater or equal:\", arr1 >= arr2) # [False, False, True, True, True]"
   ]
  },
  {
   "cell_type": "code",
   "execution_count": 32,
   "id": "4f3afd36-c48a-4c2a-9c05-ecc889bbebf6",
   "metadata": {},
   "outputs": [
    {
     "name": "stdout",
     "output_type": "stream",
     "text": [
      "Greater than 3: [False False False  True  True]\n",
      "Equal to 3: [False False  True False False]\n"
     ]
    }
   ],
   "source": [
    "# With Scalars\n",
    "\n",
    "arr = np.array([1, 2, 3, 4, 5])\n",
    "\n",
    "print(\"Greater than 3:\", arr > 3)       # [False, False, False, True, True]\n",
    "print(\"Equal to 3:\", arr == 3)          # [False, False, True, False, False]"
   ]
  },
  {
   "cell_type": "code",
   "execution_count": 33,
   "id": "ae22edf3-ab5c-4c9c-ab16-6341cc4fbd5d",
   "metadata": {},
   "outputs": [
    {
     "name": "stdout",
     "output_type": "stream",
     "text": [
      "[ True False False False]\n",
      "[False False  True  True False]\n",
      "[3 4]\n"
     ]
    }
   ],
   "source": [
    "# Logical Operations \n",
    "# AND - np.logical_and()\n",
    "\n",
    "a = np.array([True, True, False, False])\n",
    "b = np.array([True, False, True, False])\n",
    "\n",
    "print(np.logical_and(a, b))  # [True, False, False, False]\n",
    "\n",
    "# Practical example\n",
    "arr = np.array([1, 2, 3, 4, 5])\n",
    "mask = np.logical_and(arr > 2, arr < 5)\n",
    "print(mask)  # [False, False, True, True, False]\n",
    "print(arr[mask])  # [3, 4] (filtered elements)"
   ]
  },
  {
   "cell_type": "code",
   "execution_count": 34,
   "id": "48fdb814-3855-45d8-a2bc-6559cab40a09",
   "metadata": {},
   "outputs": [
    {
     "name": "stdout",
     "output_type": "stream",
     "text": [
      "[ True  True  True False]\n",
      "[ True False False False  True]\n"
     ]
    }
   ],
   "source": [
    "# OR - np.logical_or()\n",
    "\n",
    "a = np.array([True, True, False, False])\n",
    "b = np.array([True, False, True, False])\n",
    "\n",
    "print(np.logical_or(a, b))  # [True, True, True, False]\n",
    "\n",
    "# Practical example\n",
    "arr = np.array([1, 2, 3, 4, 5])\n",
    "mask = np.logical_or(arr < 2, arr > 4)\n",
    "print(mask)  # [True, False, False, False, True]"
   ]
  },
  {
   "cell_type": "code",
   "execution_count": 35,
   "id": "749470ab-7090-43ab-a8db-32e0a608cc75",
   "metadata": {},
   "outputs": [
    {
     "name": "stdout",
     "output_type": "stream",
     "text": [
      "[False  True False  True]\n",
      "[ True  True  True False False]\n"
     ]
    }
   ],
   "source": [
    "# NOT - np.logical_not()\n",
    "\n",
    "a = np.array([True, False, True, False])\n",
    "\n",
    "print(np.logical_not(a))  # [False, True, False, True]\n",
    "\n",
    "# Practical example\n",
    "arr = np.array([1, 2, 3, 4, 5])\n",
    "mask = np.logical_not(arr > 3)\n",
    "print(mask)  # [True, True, True, False, False]"
   ]
  },
  {
   "cell_type": "markdown",
   "id": "c72eeabb-ace9-47f4-8bb8-761227e9217c",
   "metadata": {},
   "source": [
    "# Practical Examples with 2D Arrays"
   ]
  },
  {
   "cell_type": "code",
   "execution_count": 36,
   "id": "123cd2d7-7aef-45be-a771-2484332d2e83",
   "metadata": {},
   "outputs": [
    {
     "name": "stdout",
     "output_type": "stream",
     "text": [
      "Comfortable temperatures mask:\n",
      "[[ True  True  True]\n",
      " [False False  True]\n",
      " [False False  True]]\n",
      "Comfortable temperatures:\n",
      "[25 28 30 29 27]\n"
     ]
    }
   ],
   "source": [
    "# Temperature data for multiple days\n",
    "temperatures = np.array([[25, 28, 30],\n",
    "                         [22, 35, 29],\n",
    "                         [18, 32, 27]])\n",
    "\n",
    "# Find temperatures between 25 and 30 degrees\n",
    "comfortable = np.logical_and(temperatures >= 25, temperatures <= 30)\n",
    "print(\"Comfortable temperatures mask:\")\n",
    "print(comfortable)\n",
    "print(\"Comfortable temperatures:\")\n",
    "print(temperatures[comfortable])"
   ]
  },
  {
   "cell_type": "code",
   "execution_count": 37,
   "id": "47331968-9853-46c0-b2a9-eae7c2bde093",
   "metadata": {},
   "outputs": [
    {
     "name": "stdout",
     "output_type": "stream",
     "text": [
      "[False False  True  True  True]\n",
      "[30 40 50]\n",
      "[30 40 50]\n"
     ]
    }
   ],
   "source": [
    "# Using Boolean Arrays as Masks\n",
    "\n",
    "arr = np.array([10, 20, 30, 40, 50])\n",
    "\n",
    "# Create boolean mask\n",
    "mask = arr > 25\n",
    "print(mask)  # [False, False, True, True, True]\n",
    "\n",
    "# Apply mask to filter elements\n",
    "filtered = arr[mask]\n",
    "print(filtered)  # [30, 40, 50]\n",
    "\n",
    "# One-liner filtering\n",
    "print(arr[arr > 25])  # [30, 40, 50]"
   ]
  },
  {
   "cell_type": "code",
   "execution_count": 38,
   "id": "20a95256-ad15-4784-961c-486fa450df74",
   "metadata": {},
   "outputs": [
    {
     "name": "stdout",
     "output_type": "stream",
     "text": [
      "Even numbers: [ 2  4  6  8 10]\n",
      "Between 3 and 8: [3 4 5 6 7 8]\n"
     ]
    }
   ],
   "source": [
    "# Multiple Conditions\n",
    "\n",
    "arr = np.array([1, 2, 3, 4, 5, 6, 7, 8, 9, 10])\n",
    "\n",
    "# Multiple conditions\n",
    "even_numbers = arr[arr % 2 == 0]\n",
    "print(\"Even numbers:\", even_numbers)  # [2, 4, 6, 8, 10]\n",
    "\n",
    "# Between 3 and 8\n",
    "between = arr[(arr >= 3) & (arr <= 8)]\n",
    "print(\"Between 3 and 8:\", between)  # [3, 4, 5, 6, 7, 8]"
   ]
  },
  {
   "cell_type": "code",
   "execution_count": 39,
   "id": "376448e9-86f1-416a-9c9e-acb5e24995c2",
   "metadata": {},
   "outputs": [
    {
     "name": "stdout",
     "output_type": "stream",
     "text": [
      "[False False  True  True  True]\n",
      "[0 0 1 1 1]\n",
      "3\n",
      "3\n"
     ]
    }
   ],
   "source": [
    "# Mathematical Operations with Boolean Arrays\n",
    "\n",
    "arr = np.array([1, 2, 3, 4, 5])\n",
    "\n",
    "# Boolean arrays can be used in mathematical operations\n",
    "bool_arr = arr > 2\n",
    "print(bool_arr)  # [False, False, True, True, True]\n",
    "\n",
    "# Convert boolean to integer (True=1, False=0)\n",
    "int_arr = bool_arr.astype(int)\n",
    "print(int_arr)  # [0, 0, 1, 1, 1]\n",
    "\n",
    "# Count True values\n",
    "print(np.sum(bool_arr))  # 3 (number of elements > 2)\n",
    "print(np.count_nonzero(bool_arr))  # 3 (alternative method)"
   ]
  },
  {
   "cell_type": "markdown",
   "id": "e2745cdd-299e-419d-8edd-eb195077fc1b",
   "metadata": {},
   "source": [
    "# Real-World Example: Student Grade Analysis"
   ]
  },
  {
   "cell_type": "code",
   "execution_count": 40,
   "id": "67f9330b-ea09-4e44-a54b-15671f094c86",
   "metadata": {},
   "outputs": [
    {
     "name": "stdout",
     "output_type": "stream",
     "text": [
      "Passed all subjects: [ True False False  True]\n",
      "Failed any subject: [False  True  True False]\n",
      "Has excellent grade: [ True  True False  True]\n"
     ]
    }
   ],
   "source": [
    "# Student grades data\n",
    "grades = np.array([[85, 92, 78],\n",
    "                   [45, 88, 92],\n",
    "                   [76, 52, 90],\n",
    "                   [88, 95, 82]])\n",
    "\n",
    "# Find students who passed all subjects (grade >= 60)\n",
    "passed_all = np.all(grades >= 60, axis=1)\n",
    "print(\"Passed all subjects:\", passed_all)  # [True, False, False, True]\n",
    "\n",
    "# Find students who failed any subject\n",
    "failed_any = np.any(grades < 60, axis=1)\n",
    "print(\"Failed any subject:\", failed_any)  # [False, True, True, False]\n",
    "\n",
    "# Find excellent students (any grade > 90)\n",
    "excellent = np.any(grades > 90, axis=1)\n",
    "print(\"Has excellent grade:\", excellent)  # [True, True, False, True]"
   ]
  },
  {
   "cell_type": "code",
   "execution_count": 41,
   "id": "423d4a6d-cd86-4ab3-8392-3d1588e724b3",
   "metadata": {},
   "outputs": [
    {
     "name": "stdout",
     "output_type": "stream",
     "text": [
      "[ 1  2  3 40 50]\n"
     ]
    }
   ],
   "source": [
    "# np.where() - Conditional Selection\n",
    "\n",
    "arr = np.array([1, 2, 3, 4, 5])\n",
    "\n",
    "# Replace elements based on condition\n",
    "result = np.where(arr > 3, arr * 10, arr)  # If >3 then *10, else keep as is\n",
    "print(result)  # [1, 2, 3, 40, 50]"
   ]
  },
  {
   "cell_type": "code",
   "execution_count": 42,
   "id": "bee2ec99-9cf2-4442-8e7d-97c31a7f7213",
   "metadata": {},
   "outputs": [
    {
     "name": "stdout",
     "output_type": "stream",
     "text": [
      "False\n",
      "True\n"
     ]
    }
   ],
   "source": [
    "# np.all() and np.any()\n",
    "\n",
    "arr = np.array([True, True, False])\n",
    "\n",
    "print(np.all(arr))   # False (all elements must be True)\n",
    "print(np.any(arr))   # True (at least one element is True)"
   ]
  },
  {
   "cell_type": "markdown",
   "id": "c22ac7d0-cb30-4ad9-9e28-5f26dc1b0698",
   "metadata": {},
   "source": [
    "# 3.4 Working with NaN and missing values"
   ]
  },
  {
   "cell_type": "code",
   "execution_count": 43,
   "id": "bedc9f34-0f2c-4cf3-910b-14cf32f14b14",
   "metadata": {},
   "outputs": [
    {
     "name": "stdout",
     "output_type": "stream",
     "text": [
      "NaN mask: [False False  True False  True False]\n",
      "Number of NaN values: 2\n"
     ]
    }
   ],
   "source": [
    "# np.isnan() - Detect NaN values\n",
    "\n",
    "arr = np.array([1, 2, np.nan, 4, np.nan, 6])\n",
    "\n",
    "# Check which elements are NaN\n",
    "nan_mask = np.isnan(arr)\n",
    "print(\"NaN mask:\", nan_mask)  # [False, False, True, False, True, False]\n",
    "\n",
    "# Count NaN values\n",
    "nan_count = np.sum(np.isnan(arr))\n",
    "print(\"Number of NaN values:\", nan_count)  # 2"
   ]
  },
  {
   "cell_type": "code",
   "execution_count": 44,
   "id": "1004523c-d348-46f9-885a-4f91b532a6bb",
   "metadata": {},
   "outputs": [
    {
     "name": "stdout",
     "output_type": "stream",
     "text": [
      "Non-NaN mask: [ True  True False  True False  True]\n"
     ]
    }
   ],
   "source": [
    "# ~np.isnan() - Detect non-NaN values\n",
    "\n",
    "arr = np.array([1, 2, np.nan, 4, np.nan, 6])\n",
    "\n",
    "non_nan_mask = ~np.isnan(arr)\n",
    "print(\"Non-NaN mask:\", non_nan_mask)  # [True, True, False, True, False, True]"
   ]
  },
  {
   "cell_type": "code",
   "execution_count": 45,
   "id": "9fbf02dc-774c-4816-8117-cd621be5266b",
   "metadata": {},
   "outputs": [
    {
     "name": "stdout",
     "output_type": "stream",
     "text": [
      "Sum: nan\n",
      "Mean: nan\n",
      "Max: nan\n"
     ]
    }
   ],
   "source": [
    "# Handling NaN in Mathematical Operations (How NaN Propagates)\n",
    "\n",
    "arr = np.array([1, 2, np.nan, 4])\n",
    "\n",
    "print(\"Sum:\", np.sum(arr))        # nan\n",
    "print(\"Mean:\", np.mean(arr))      # nan\n",
    "print(\"Max:\", np.max(arr))        # nan"
   ]
  },
  {
   "cell_type": "code",
   "execution_count": 46,
   "id": "81ac7409-16b1-44d3-9ce0-5edda0dea5b0",
   "metadata": {},
   "outputs": [
    {
     "name": "stdout",
     "output_type": "stream",
     "text": [
      "Regular sum: nan\n",
      "NaN-safe sum: 12.0\n",
      "NaN-safe mean: 3.0\n",
      "NaN-safe max: 5.0\n",
      "NaN-safe min: 1.0\n",
      "NaN-safe std: 1.5811388300841898\n"
     ]
    }
   ],
   "source": [
    "# NaN-Safe Aggregation Functions\n",
    "\n",
    "arr = np.array([1, 2, np.nan, 4, 5])\n",
    "\n",
    "# Regular functions return nan\n",
    "print(\"Regular sum:\", np.sum(arr))        # nan\n",
    "\n",
    "# NaN-safe functions (skip NaN values)\n",
    "print(\"NaN-safe sum:\", np.nansum(arr))    # 12.0 (1+2+4+5)\n",
    "print(\"NaN-safe mean:\", np.nanmean(arr))  # 3.0 (12/4)\n",
    "print(\"NaN-safe max:\", np.nanmax(arr))    # 5.0\n",
    "print(\"NaN-safe min:\", np.nanmin(arr))    # 1.0\n",
    "print(\"NaN-safe std:\", np.nanstd(arr))    # 1.58"
   ]
  },
  {
   "cell_type": "code",
   "execution_count": 47,
   "id": "f63408cb-2913-4029-a06d-ea23dd74e8a8",
   "metadata": {},
   "outputs": [
    {
     "name": "stdout",
     "output_type": "stream",
     "text": [
      "nansum: 9.0\n",
      "nanmean: 3.0\n",
      "nanmedian: 3.0\n",
      "nanstd: 1.632993161855452\n",
      "nanvar: 2.6666666666666665\n",
      "nanmin: 1.0\n",
      "nanmax: 5.0\n",
      "nanpercentile: 3.0\n"
     ]
    }
   ],
   "source": [
    "# Complete List of NaN-Safe Functions\n",
    "\n",
    "arr = np.array([1, np.nan, 3, np.nan, 5])\n",
    "\n",
    "print(\"nansum:\", np.nansum(arr))      # 9.0\n",
    "print(\"nanmean:\", np.nanmean(arr))    # 3.0\n",
    "print(\"nanmedian:\", np.nanmedian(arr)) # 3.0\n",
    "print(\"nanstd:\", np.nanstd(arr))      # 1.63\n",
    "print(\"nanvar:\", np.nanvar(arr))      # 2.67\n",
    "print(\"nanmin:\", np.nanmin(arr))      # 1.0\n",
    "print(\"nanmax:\", np.nanmax(arr))      # 5.0\n",
    "print(\"nanpercentile:\", np.nanpercentile(arr, 50))  # 3.0"
   ]
  },
  {
   "cell_type": "code",
   "execution_count": 48,
   "id": "96d724e4-cb07-4a0d-8850-975d4709cbe0",
   "metadata": {},
   "outputs": [
    {
     "name": "stdout",
     "output_type": "stream",
     "text": [
      "Clean array: [1. 2. 4. 6.]\n",
      "Clean array: [1. 2. 4. 6.]\n"
     ]
    }
   ],
   "source": [
    "# Filtering and Replacing NaN Values (Removing NaN Values)\n",
    "\n",
    "arr = np.array([1, 2, np.nan, 4, np.nan, 6])\n",
    "\n",
    "# Method 1: Boolean indexing\n",
    "clean_arr = arr[~np.isnan(arr)]\n",
    "print(\"Clean array:\", clean_arr)  # [1. 2. 4. 6.]\n",
    "\n",
    "# Method 2: Using np.isnan() with negation\n",
    "clean_arr = arr[np.logical_not(np.isnan(arr))]\n",
    "print(\"Clean array:\", clean_arr)  # [1. 2. 4. 6.]"
   ]
  },
  {
   "cell_type": "code",
   "execution_count": 49,
   "id": "af613a83-cad3-4f7d-bf38-62cfa15b9e7a",
   "metadata": {},
   "outputs": [
    {
     "name": "stdout",
     "output_type": "stream",
     "text": [
      "NaN replaced with 0: [1. 2. 0. 4. 0. 6.]\n",
      "NaN replaced with mean: [1.   2.   3.25 4.   3.25 6.  ]\n",
      "NaN replaced with -999: [   1.    2. -999.    4. -999.    6.]\n"
     ]
    }
   ],
   "source": [
    "# Replacing NaN Values\n",
    "\n",
    "arr = np.array([1, 2, np.nan, 4, np.nan, 6])\n",
    "\n",
    "# Replace NaN with 0\n",
    "arr_zero = np.nan_to_num(arr, nan=0)\n",
    "print(\"NaN replaced with 0:\", arr_zero)  # [1. 2. 0. 4. 0. 6.]\n",
    "\n",
    "# Replace NaN with mean of non-NaN values\n",
    "mean_val = np.nanmean(arr)\n",
    "arr_mean = np.where(np.isnan(arr), mean_val, arr)\n",
    "print(\"NaN replaced with mean:\", arr_mean)  # [1. 2. 3.25 4. 3.25 6.]\n",
    "\n",
    "# Replace NaN with specific value\n",
    "arr_filled = arr.copy()\n",
    "arr_filled[np.isnan(arr_filled)] = -999\n",
    "print(\"NaN replaced with -999:\", arr_filled)"
   ]
  },
  {
   "cell_type": "markdown",
   "id": "c2d95970-6727-4f40-a0ac-56e21cc1b5a5",
   "metadata": {},
   "source": [
    "# Working with 2D Arrays and NaN"
   ]
  },
  {
   "cell_type": "code",
   "execution_count": 50,
   "id": "ab4293e9-cd39-4e6f-9938-ff9171f5c480",
   "metadata": {},
   "outputs": [
    {
     "name": "stdout",
     "output_type": "stream",
     "text": [
      "Original 2D array:\n",
      "[[ 1.  2. nan]\n",
      " [ 4. nan  6.]\n",
      " [nan  8.  9.]]\n",
      "NaN count per column: [1 1 1]\n",
      "NaN count per row: [1 1 1]\n",
      "Column means (NaN-safe): [2.5 5.  7.5]\n",
      "Row means (NaN-safe): [1.5 5.  8.5]\n"
     ]
    }
   ],
   "source": [
    "# 2D array with missing values\n",
    "data_2d = np.array([[1, 2, np.nan],\n",
    "                    [4, np.nan, 6],\n",
    "                    [np.nan, 8, 9]])\n",
    "\n",
    "print(\"Original 2D array:\")\n",
    "print(data_2d)\n",
    "\n",
    "# Count NaN per column\n",
    "nan_per_column = np.sum(np.isnan(data_2d), axis=0)\n",
    "print(\"NaN count per column:\", nan_per_column)  # [1, 1, 1]\n",
    "\n",
    "# Count NaN per row\n",
    "nan_per_row = np.sum(np.isnan(data_2d), axis=1)\n",
    "print(\"NaN count per row:\", nan_per_row)  # [1, 1, 1]\n",
    "\n",
    "# Column-wise NaN-safe operations\n",
    "print(\"Column means (NaN-safe):\", np.nanmean(data_2d, axis=0))\n",
    "print(\"Row means (NaN-safe):\", np.nanmean(data_2d, axis=1))"
   ]
  },
  {
   "cell_type": "code",
   "execution_count": 51,
   "id": "c54f313d-129c-4cb8-8eab-a1b112db2ec2",
   "metadata": {},
   "outputs": [
    {
     "name": "stdout",
     "output_type": "stream",
     "text": [
      "[ 2. -1.  6.  8. -1.]\n"
     ]
    }
   ],
   "source": [
    "# Advanced NaN Handling Techniques (Using np.where() with NaN)\n",
    "\n",
    "arr = np.array([1, np.nan, 3, 4, np.nan])\n",
    "\n",
    "# Replace NaN with specific values based on condition\n",
    "result = np.where(np.isnan(arr), -1, arr * 2)\n",
    "print(result)  # [2., -1., 6., 8., -1.]"
   ]
  },
  {
   "cell_type": "code",
   "execution_count": 52,
   "id": "14975172-6e16-4b41-935a-944cae55d28f",
   "metadata": {},
   "outputs": [
    {
     "name": "stdout",
     "output_type": "stream",
     "text": [
      "Indices of NaN values: [2 4]\n"
     ]
    }
   ],
   "source": [
    "# Finding Indices of NaN Values\n",
    "\n",
    "arr = np.array([1, 2, np.nan, 4, np.nan, 6])\n",
    "\n",
    "# Get indices of NaN values\n",
    "nan_indices = np.where(np.isnan(arr))[0]\n",
    "print(\"Indices of NaN values:\", nan_indices)  # [2, 4]"
   ]
  },
  {
   "cell_type": "markdown",
   "id": "edff1ddb-742e-4f8b-ae56-672333220418",
   "metadata": {},
   "source": [
    "# Real-World Data Cleaning Example"
   ]
  },
  {
   "cell_type": "code",
   "execution_count": 53,
   "id": "35faeb06-c7e6-40e9-92b6-1bc1fa847855",
   "metadata": {},
   "outputs": [
    {
     "name": "stdout",
     "output_type": "stream",
     "text": [
      "Original dataset:\n",
      "[[ 1.  2.  3.]\n",
      " [ 4. nan  6.]\n",
      " [nan nan nan]\n",
      " [ 7.  8.  9.]\n",
      " [10. nan 12.]]\n",
      "\n",
      "Cleaned dataset:\n",
      "[[ 1.  2.  3.]\n",
      " [ 4.  5.  6.]\n",
      " [ 7.  8.  9.]\n",
      " [10.  5. 12.]]\n"
     ]
    }
   ],
   "source": [
    "# Simulating real dataset with missing values\n",
    "def clean_dataset(data):\n",
    "    \"\"\"Clean dataset by handling missing values\"\"\"\n",
    "    \n",
    "    # Create a copy to avoid modifying original\n",
    "    cleaned = data.copy()\n",
    "    \n",
    "    # Strategy 1: Remove rows with too many NaN values\n",
    "    nan_per_row = np.sum(np.isnan(cleaned), axis=1)\n",
    "    valid_rows = nan_per_row < cleaned.shape[1] / 2  # Keep rows with <50% NaN\n",
    "    cleaned = cleaned[valid_rows]\n",
    "    \n",
    "    # Strategy 2: Fill remaining NaN with column means\n",
    "    for col in range(cleaned.shape[1]):\n",
    "        col_data = cleaned[:, col]\n",
    "        if np.any(np.isnan(col_data)):\n",
    "            col_mean = np.nanmean(col_data)\n",
    "            col_data[np.isnan(col_data)] = col_mean\n",
    "            cleaned[:, col] = col_data\n",
    "    \n",
    "    return cleaned\n",
    "\n",
    "# Example usage\n",
    "dataset = np.array([[1, 2, 3],\n",
    "                    [4, np.nan, 6],\n",
    "                    [np.nan, np.nan, np.nan],\n",
    "                    [7, 8, 9],\n",
    "                    [10, np.nan, 12]])\n",
    "\n",
    "print(\"Original dataset:\")\n",
    "print(dataset)\n",
    "\n",
    "cleaned_data = clean_dataset(dataset)\n",
    "print(\"\\nCleaned dataset:\")\n",
    "print(cleaned_data)"
   ]
  },
  {
   "cell_type": "markdown",
   "id": "d49f8136-f819-461f-b39a-2f13f5eb1614",
   "metadata": {},
   "source": [
    "# 4. Real-World Data Analytics Example"
   ]
  },
  {
   "cell_type": "code",
   "execution_count": 54,
   "id": "6dee829b-5297-4fda-afe4-0648564c0a94",
   "metadata": {},
   "outputs": [
    {
     "name": "stdout",
     "output_type": "stream",
     "text": [
      "Mean score: 86.625\n",
      "Standard Deviation: 6.203577596838779\n"
     ]
    }
   ],
   "source": [
    "# A dataset of exam scores\n",
    "scores = np.array([85, 90, 78, 92, 88, 76, 95, 89])\n",
    "\n",
    "# Calculate the mean and standard deviation\n",
    "mean_score = np.mean(scores)\n",
    "std_dev_score = np.std(scores)\n",
    "\n",
    "print(f\"Mean score: {mean_score}\")\n",
    "print(f\"Standard Deviation: {std_dev_score}\")\n"
   ]
  },
  {
   "cell_type": "code",
   "execution_count": 55,
   "id": "ba4b37f3-2a77-480d-939b-791fccc58407",
   "metadata": {},
   "outputs": [
    {
     "name": "stdout",
     "output_type": "stream",
     "text": [
      "Total sales per product: [850 495 320]\n"
     ]
    }
   ],
   "source": [
    "# Sample sales data (3 products, 5 days)\n",
    "sales = np.array([\n",
    "    [100, 150, 200, 180, 220],  # Product 1\n",
    "    [80, 90, 110, 95, 120],     # Product 2\n",
    "    [50, 60, 70, 65, 75]        # Product 3\n",
    "])\n",
    "\n",
    "# Total sales per product\n",
    "total_sales = np.sum(sales, axis=1)\n",
    "print(\"Total sales per product:\", total_sales)"
   ]
  },
  {
   "cell_type": "code",
   "execution_count": 56,
   "id": "b50f16dc-10a8-4cf6-863c-0db23174274e",
   "metadata": {},
   "outputs": [
    {
     "name": "stdout",
     "output_type": "stream",
     "text": [
      "Average daily sales: [ 76.66666667 100.         126.66666667 113.33333333 138.33333333]\n"
     ]
    }
   ],
   "source": [
    "# Average daily sales\n",
    "avg_daily = np.mean(sales, axis=0)\n",
    "print(\"Average daily sales:\", avg_daily)"
   ]
  },
  {
   "cell_type": "code",
   "execution_count": 57,
   "id": "3078897d-f1da-442b-9bb5-f7b9596ff963",
   "metadata": {},
   "outputs": [
    {
     "name": "stdout",
     "output_type": "stream",
     "text": [
      "Best-selling day: 4\n"
     ]
    }
   ],
   "source": [
    "# Best-selling day\n",
    "best_day = np.argmax(np.sum(sales, axis=0))\n",
    "print(\"Best-selling day:\", best_day)"
   ]
  },
  {
   "cell_type": "markdown",
   "id": "e0e6ca18-a01c-4f15-9722-e54112724e15",
   "metadata": {},
   "source": [
    "# Practical Example: Predicting House Prices"
   ]
  },
  {
   "cell_type": "raw",
   "id": "f4fa9bb9-e0a3-4786-8713-43714bd983dc",
   "metadata": {},
   "source": [
    "Let’s walk through a practical example using NumPy to perform some basic data analysis with a real-life dataset: house prices.\n",
    "\n",
    "Suppose we have a CSV file (house_prices.csv) with the following columns:\n",
    "Area (in square feet)\n",
    "Bedrooms (number of bedrooms)\n",
    "Price (price of the house)\n",
    "\n",
    "We want to analyze the relationship between area, number of bedrooms, and house price."
   ]
  },
  {
   "cell_type": "code",
   "execution_count": 58,
   "id": "57a9552a-2775-44cb-b0e3-153f937c8be3",
   "metadata": {},
   "outputs": [],
   "source": [
    "# Load the dataset\n",
    "data = np.genfromtxt('Housing.csv', delimiter=',', skip_header=1)"
   ]
  },
  {
   "cell_type": "code",
   "execution_count": 59,
   "id": "2728f5be-b423-49e2-af3c-3509738f7c2a",
   "metadata": {},
   "outputs": [],
   "source": [
    "# Extract features (Area and Bedrooms) and target (Price)\n",
    "X = data[:, 0:2]  # Features: Area and Bedrooms\n",
    "y = data[:, 2]  # Target: Price"
   ]
  },
  {
   "cell_type": "code",
   "execution_count": 60,
   "id": "6bc95711-a19b-4662-835d-26dcd039cbff",
   "metadata": {},
   "outputs": [
    {
     "name": "stdout",
     "output_type": "stream",
     "text": [
      "Mean area: 5150.54128440367\n",
      "Mean price: 4766729.247706422\n"
     ]
    }
   ],
   "source": [
    "# Perform basic statistical analysis\n",
    "print(\"Mean area:\", np.mean(X[:, 0]))\n",
    "print(\"Mean price:\", np.mean(y))"
   ]
  },
  {
   "cell_type": "code",
   "execution_count": 61,
   "id": "243faca8-2a1a-4afd-a0e8-64d0b06f1e49",
   "metadata": {},
   "outputs": [
    {
     "name": "stdout",
     "output_type": "stream",
     "text": [
      "Correlation between Area and Price: 0.5359973457780797\n"
     ]
    }
   ],
   "source": [
    "# Correlation between area and price\n",
    "correlation = np.corrcoef(X[:, 0], y)[0, 1]\n",
    "print(f\"Correlation between Area and Price: {correlation}\")"
   ]
  },
  {
   "cell_type": "code",
   "execution_count": 62,
   "id": "938feae9-0e14-438e-9aae-67f617e5dc78",
   "metadata": {},
   "outputs": [],
   "source": [
    "# Perform a simple linear regression model (Using only area as the predictor)\n",
    "from sklearn.linear_model import LinearRegression\n",
    "model = LinearRegression()"
   ]
  },
  {
   "cell_type": "code",
   "execution_count": 63,
   "id": "37ec8edc-141f-4d45-9542-7981420def71",
   "metadata": {},
   "outputs": [],
   "source": [
    "# Fit the model\n",
    "model.fit(X[:, [0]], y)  # Using Area as the only feature\n",
    "predictions = model.predict(X[:, [0]])"
   ]
  },
  {
   "cell_type": "code",
   "execution_count": 64,
   "id": "3611dcd7-e988-4ec1-80ec-209dc88e3219",
   "metadata": {},
   "outputs": [
    {
     "name": "stdout",
     "output_type": "stream",
     "text": [
      "Slope (Coefficient): [461.97489427]\n",
      "Intercept: 2387308.4823964313\n"
     ]
    }
   ],
   "source": [
    "# Print coefficients (slope and intercept)\n",
    "print(\"Slope (Coefficient):\", model.coef_)\n",
    "print(\"Intercept:\", model.intercept_)"
   ]
  },
  {
   "cell_type": "code",
   "execution_count": 65,
   "id": "c9c963de-b11f-42b9-b405-87a92fa0870d",
   "metadata": {},
   "outputs": [
    {
     "data": {
      "image/png": "[encoded data removed]",
      "text/plain": [
       "<Figure size 640x480 with 1 Axes>"
      ]
     },
     "metadata": {},
     "output_type": "display_data"
    }
   ],
   "source": [
    "# Plotting the results\n",
    "import matplotlib.pyplot as plt\n",
    "\n",
    "plt.scatter(X[:, 0], y, color='lightblue', label='Data')\n",
    "plt.plot(X[:, 0], predictions, color='red', label='Linear Regression Line')\n",
    "plt.xlabel(\"Area (in sq. ft.)\")\n",
    "plt.ylabel(\"Price\")\n",
    "plt.title(\"House Price Prediction\")\n",
    "plt.legend()\n",
    "plt.show()"
   ]
  },
  {
   "cell_type": "markdown",
   "id": "c3f4acac-2313-42a2-ac22-722b3a4ba2c7",
   "metadata": {},
   "source": [
    "# What's Next?"
   ]
  },
  {
   "cell_type": "raw",
   "id": "d142896b-757b-4023-be92-a68f2aace2bf",
   "metadata": {},
   "source": [
    "Pandas → Tabular data manipulation\n",
    "\n",
    "Matplotlib/Seaborn → Data visualization\n",
    "\n",
    "Scikit-learn → Machine Learning models"
   ]
  },
  {
   "cell_type": "code",
   "execution_count": null,
   "id": "fcec5b54-7173-4636-a31c-7a443526db93",
   "metadata": {},
   "outputs": [],
   "source": []
  }
 ],
 "metadata": {
  "kernelspec": {
   "display_name": "Python 3 (ipykernel)",
   "language": "python",
   "name": "python3"
  },
  "language_info": {
   "codemirror_mode": {
    "name": "ipython",
    "version": 3
   },
   "file_extension": ".py",
   "mimetype": "text/x-python",
   "name": "python",
   "nbconvert_exporter": "python",
   "pygments_lexer": "ipython3",
   "version": "3.13.5"
  }
 },
 "nbformat": 4,
 "nbformat_minor": 5
}
