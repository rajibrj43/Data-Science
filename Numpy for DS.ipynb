{
 "cells": [
  {
   "cell_type": "markdown",
   "id": "3bbb5368-24af-42b1-8001-59f547793f52",
   "metadata": {},
   "source": [
    "# Introduction to NumPy"
   ]
  },
  {
   "cell_type": "raw",
   "id": "d38d6fe2-1737-4801-b1b0-4448f3a5ac2d",
   "metadata": {},
   "source": [
    "NumPy (Numerical Python) is one of the most popular libraries for scientific computing in Python.  It provides support for large multi-dimensional arrays and matrices, along with a wide collection of high-level mathematical functions to operate on these arrays. NumPy is a foundational library for data analysis, and it’s heavily used in data science, machine learning, and statistical computations.\n",
    "\n",
    "This tutorial will cover the basics of NumPy and how you can use it in data analytics."
   ]
  },
  {
   "cell_type": "markdown",
   "id": "3475d78e-906b-4fd8-8a22-7320d3679b30",
   "metadata": {},
   "source": [
    "# Why Use NumPy?"
   ]
  },
  {
   "cell_type": "raw",
   "id": "1bc331a1-ddfd-4d6d-a517-498190b3b1aa",
   "metadata": {},
   "source": [
    "-- Efficient handling of arrays and matrices: NumPy arrays are much faster than Python lists because of their efficient memory management.\n",
    "\n",
    "-- Vectorized operations: NumPy provides efficient operations over entire arrays without needing explicit loops.\n",
    "\n",
    "-- Mathematical functions: It has a vast collection of mathematical functions to perform operations on arrays (like linear algebra, statistics, etc.).\n",
    "\n",
    "-- Compatibility: It integrates well with other Python libraries such as Pandas, Matplotlib, and SciPy."
   ]
  },
  {
   "cell_type": "markdown",
   "id": "376bbafc-c133-4f54-9c87-2ddcc732b5b5",
   "metadata": {},
   "source": [
    "# Installing NumPy"
   ]
  },
  {
   "cell_type": "code",
   "execution_count": 1,
   "id": "3c0c2b51-aa4d-42e3-b204-19a4aef4eef4",
   "metadata": {},
   "outputs": [
    {
     "name": "stdout",
     "output_type": "stream",
     "text": [
      "Requirement already satisfied: numpy in c:\\users\\najmul.hasan.bracu\\appdata\\local\\anaconda3\\lib\\site-packages (1.26.4)\n",
      "Note: you may need to restart the kernel to use updated packages.\n"
     ]
    }
   ],
   "source": [
    "pip install numpy"
   ]
  },
  {
   "cell_type": "markdown",
   "id": "895c7139-be06-4a81-8564-e9d9609cbf3c",
   "metadata": {},
   "source": [
    "# Creating Arrays"
   ]
  },
  {
   "cell_type": "code",
   "execution_count": 3,
   "id": "dd303146-cc25-449b-8de0-0364b6d24d35",
   "metadata": {},
   "outputs": [
    {
     "name": "stdout",
     "output_type": "stream",
     "text": [
      "[1 2 3 4 5]\n"
     ]
    }
   ],
   "source": [
    "# From a Python list\n",
    "# Creating a 1D Array (Matrix)\n",
    "\n",
    "import numpy as np\n",
    "\n",
    "arr = np.array([1, 2, 3, 4, 5])\n",
    "print(arr)  # Output: [1 2 3 4 5]"
   ]
  },
  {
   "cell_type": "code",
   "execution_count": 5,
   "id": "23c37fb6-23bf-4c4d-9440-fd9c2205a78e",
   "metadata": {},
   "outputs": [
    {
     "name": "stdout",
     "output_type": "stream",
     "text": [
      "[[1 2 3]\n",
      " [4 5 6]]\n"
     ]
    }
   ],
   "source": [
    "# Creating a 2D Array (Matrix)\n",
    "\n",
    "arr_2d = np.array([[1, 2, 3], [4, 5, 6]])\n",
    "print(arr_2d)"
   ]
  },
  {
   "cell_type": "code",
   "execution_count": 7,
   "id": "c35f3817-b5d9-4764-86a5-12a55900944d",
   "metadata": {},
   "outputs": [
    {
     "name": "stdout",
     "output_type": "stream",
     "text": [
      "[[0. 0. 0.]\n",
      " [0. 0. 0.]]\n"
     ]
    }
   ],
   "source": [
    "# Creating Arrays with Functions\n",
    "\n",
    "zeros_arr = np.zeros((2, 3))  # 2x3 array of zeros\n",
    "ones_arr = np.ones((3, 3))    # 3x3 array of ones\n",
    "range_arr = np.arange(0, 10, 2)  # Array from 0 to 10 with a step of 2\n",
    "linspace_arr = np.linspace(0, 1, 5)  # 5 evenly spaced numbers between 0 and 1\n",
    "\n",
    "print(zeros_arr)"
   ]
  },
  {
   "cell_type": "code",
   "execution_count": 8,
   "id": "f69cbc0e-6c8c-49b7-8c69-422cc893dd51",
   "metadata": {},
   "outputs": [
    {
     "name": "stdout",
     "output_type": "stream",
     "text": [
      "[[1. 1. 1.]\n",
      " [1. 1. 1.]\n",
      " [1. 1. 1.]]\n"
     ]
    }
   ],
   "source": [
    "print(ones_arr)"
   ]
  },
  {
   "cell_type": "code",
   "execution_count": 9,
   "id": "ca823f8e-fea5-4d82-ab43-a0919d6d3aa2",
   "metadata": {},
   "outputs": [
    {
     "name": "stdout",
     "output_type": "stream",
     "text": [
      "[0 2 4 6 8]\n"
     ]
    }
   ],
   "source": [
    "print(range_arr)"
   ]
  },
  {
   "cell_type": "code",
   "execution_count": 10,
   "id": "4c02d056-c2b6-42f9-b4b6-31d98f6478c3",
   "metadata": {},
   "outputs": [
    {
     "name": "stdout",
     "output_type": "stream",
     "text": [
      "[0.   0.25 0.5  0.75 1.  ]\n"
     ]
    }
   ],
   "source": [
    "print(linspace_arr)"
   ]
  },
  {
   "cell_type": "code",
   "execution_count": 33,
   "id": "26e54c50-7f71-48f0-96f3-faf8bd31454c",
   "metadata": {},
   "outputs": [],
   "source": [
    "zeros = np.zeros((3, 3))                # 3x3 zeros matrix\n",
    "ones = np.ones((2, 4))                  # 2x4 ones matrix\n",
    "identity = np.eye(3)                    # Identity matrix\n",
    "range_arr = np.arange(0, 10, 2)         # [0, 2, 4, 6, 8]\n",
    "linspace = np.linspace(0, 1, 5)         # [0.0, 0.25, 0.5, 0.75, 1.0]\n",
    "random_arr = np.random.rand(2, 3)       # Random values (0-1)"
   ]
  },
  {
   "cell_type": "code",
   "execution_count": 37,
   "id": "e930cbaf-2d79-4cbc-bb1c-274a0fcd3497",
   "metadata": {},
   "outputs": [
    {
     "name": "stdout",
     "output_type": "stream",
     "text": [
      "[[0. 0. 0.]\n",
      " [0. 0. 0.]\n",
      " [0. 0. 0.]]\n",
      "[[1. 1. 1. 1.]\n",
      " [1. 1. 1. 1.]]\n",
      "[[1. 0. 0.]\n",
      " [0. 1. 0.]\n",
      " [0. 0. 1.]]\n",
      "[0 2 4 6 8]\n",
      "[0.   0.25 0.5  0.75 1.  ]\n",
      "[[0.83842668 0.66212521 0.60273117]\n",
      " [0.29782077 0.9892547  0.13185223]]\n"
     ]
    }
   ],
   "source": [
    "print(zeros)\n",
    "print(ones)\n",
    "print(identity)\n",
    "print(range_arr)\n",
    "print(linspace)\n",
    "print(random_arr)"
   ]
  },
  {
   "cell_type": "markdown",
   "id": "b44e7432-416b-4685-9464-5a40b05f550c",
   "metadata": {},
   "source": [
    "# Array Attributes"
   ]
  },
  {
   "cell_type": "code",
   "execution_count": 11,
   "id": "a7bd1ec3-2b4c-4452-8620-79cd48eb5195",
   "metadata": {},
   "outputs": [
    {
     "name": "stdout",
     "output_type": "stream",
     "text": [
      "(2, 3)\n",
      "2\n",
      "6\n",
      "int32\n"
     ]
    }
   ],
   "source": [
    "arr = np.array([[1, 2, 3], [4, 5, 6]])\n",
    "print(arr.shape)   # (2, 3) → 2 rows, 3 columns\n",
    "print(arr.ndim)    # 2 → dimensions\n",
    "print(arr.size)    # 6 → total elements\n",
    "print(arr.dtype)   # int64 → data type"
   ]
  },
  {
   "cell_type": "markdown",
   "id": "5f4a098d-86e5-4ab9-ba14-d59deb2d1034",
   "metadata": {},
   "source": [
    "# Array Operations"
   ]
  },
  {
   "cell_type": "code",
   "execution_count": 12,
   "id": "89509f23-e484-4d6f-a021-8bf87e6d80b2",
   "metadata": {},
   "outputs": [
    {
     "name": "stdout",
     "output_type": "stream",
     "text": [
      "10\n",
      "[20 30 40]\n",
      "6\n",
      "[2 5]\n"
     ]
    }
   ],
   "source": [
    "# Indexing & Slicing\n",
    "\n",
    "arr = np.array([10, 20, 30, 40, 50])\n",
    "print(arr[0])       # 10 (first element)\n",
    "print(arr[1:4])     # [20 30 40] (slicing) # # Slicing elements from index 1 to 3\n",
    "\n",
    "matrix = np.array([[1, 2, 3], [4, 5, 6]])\n",
    "print(matrix[1, 2])  # 6 (row 1, column 2)\n",
    "print(matrix[:, 1])  # [2 5] (all rows, column 1)"
   ]
  },
  {
   "cell_type": "code",
   "execution_count": 13,
   "id": "e606d450-369c-4bba-8a10-d0d19c3b1dd5",
   "metadata": {},
   "outputs": [
    {
     "name": "stdout",
     "output_type": "stream",
     "text": [
      "[[1 2 3]\n",
      " [4 5 6]\n",
      " [7 8 9]]\n"
     ]
    }
   ],
   "source": [
    "# Reshaping Arrays\n",
    "\n",
    "arr = np.arange(1, 10)  # [1 2 3 4 5 6 7 8 9]\n",
    "reshaped = arr.reshape(3, 3)\n",
    "print(reshaped)\n",
    "# Output:\n",
    "# [[1 2 3]\n",
    "#  [4 5 6]\n",
    "#  [7 8 9]]"
   ]
  },
  {
   "cell_type": "code",
   "execution_count": 38,
   "id": "5b2db203-fb38-47db-9237-b9acda13813d",
   "metadata": {},
   "outputs": [],
   "source": [
    "arr = np.arange(1, 10)  # [1, 2, 3, 4, 5, 6, 7, 8, 9]\n",
    "reshaped = arr.reshape(3, 3)  # 3x3 matrix\n",
    "flattened = reshaped.flatten() # Back to 1D"
   ]
  },
  {
   "cell_type": "code",
   "execution_count": 40,
   "id": "e43a136e-ed0c-4dc3-b30f-24c28d5b165c",
   "metadata": {},
   "outputs": [
    {
     "name": "stdout",
     "output_type": "stream",
     "text": [
      "[[1 2 3]\n",
      " [4 5 6]\n",
      " [7 8 9]]\n",
      "[1 2 3 4 5 6 7 8 9]\n"
     ]
    }
   ],
   "source": [
    "print(reshaped)\n",
    "print(flattened)"
   ]
  },
  {
   "cell_type": "code",
   "execution_count": 16,
   "id": "7d2c6687-8338-482c-bf91-fd5611e759af",
   "metadata": {},
   "outputs": [
    {
     "name": "stdout",
     "output_type": "stream",
     "text": [
      "[5 7 9]\n",
      "[ 4 10 18]\n",
      "[-3 -3 -3]\n",
      "[0.25 0.4  0.5 ]\n",
      "32\n"
     ]
    }
   ],
   "source": [
    "# Mathematical Operations\n",
    "\n",
    "a = np.array([1, 2, 3])\n",
    "b = np.array([4, 5, 6])\n",
    "\n",
    "print(a + b)   # [5 7 9] (element-wise addition)\n",
    "print(a * b)   # [4 10 18] (element-wise multiplication)\n",
    "print(a - b)   \n",
    "print(a / b)   \n",
    "print(np.dot(a, b))  # 32 (dot product)"
   ]
  },
  {
   "cell_type": "code",
   "execution_count": 17,
   "id": "590fe61b-5f2e-4835-8e4c-fb5b4b5c8624",
   "metadata": {},
   "outputs": [
    {
     "name": "stdout",
     "output_type": "stream",
     "text": [
      "[1.         1.41421356 1.73205081 2.         2.23606798]\n",
      "[  2.71828183   7.3890561   20.08553692  54.59815003 148.4131591 ]\n",
      "[0.         0.69314718 1.09861229 1.38629436 1.60943791]\n"
     ]
    }
   ],
   "source": [
    "# Mathematical Operations\n",
    "\n",
    "arr = np.array([1, 2, 3, 4, 5])\n",
    "\n",
    "# Square root of each element\n",
    "print(np.sqrt(arr))\n",
    "\n",
    "# Exponential of each element\n",
    "print(np.exp(arr))\n",
    "\n",
    "# Natural logarithm\n",
    "print(np.log(arr))"
   ]
  },
  {
   "cell_type": "code",
   "execution_count": 15,
   "id": "9b629148-29e3-46f4-820d-ede78fbb36a2",
   "metadata": {},
   "outputs": [
    {
     "name": "stdout",
     "output_type": "stream",
     "text": [
      "15\n",
      "3.0\n",
      "5\n",
      "1\n",
      "1.4142135623730951\n"
     ]
    }
   ],
   "source": [
    "# Aggregate Functions\n",
    "\n",
    "arr = np.array([1, 2, 3, 4, 5])\n",
    "print(np.sum(arr))    # 15\n",
    "print(np.mean(arr))   # 3.0\n",
    "print(np.max(arr))    # 5\n",
    "print(np.min(arr))    # 1\n",
    "print(np.std(arr))    # 1.414 (standard deviation)"
   ]
  },
  {
   "cell_type": "markdown",
   "id": "d6af7382-40b0-497e-b6b4-de72dc76523c",
   "metadata": {},
   "source": [
    "# Linear Algebra with NumPy"
   ]
  },
  {
   "cell_type": "code",
   "execution_count": 18,
   "id": "3c31ffc1-2643-42cc-830b-aec6050391a2",
   "metadata": {},
   "outputs": [
    {
     "name": "stdout",
     "output_type": "stream",
     "text": [
      "[[19 22]\n",
      " [43 50]]\n"
     ]
    }
   ],
   "source": [
    "A = np.array([[1, 2], [3, 4]])\n",
    "B = np.array([[5, 6], [7, 8]])\n",
    "\n",
    "# Matrix multiplication\n",
    "print(np.matmul(A, B))"
   ]
  },
  {
   "cell_type": "code",
   "execution_count": 19,
   "id": "d187c401-468c-4bde-9047-4af87fd91083",
   "metadata": {},
   "outputs": [
    {
     "name": "stdout",
     "output_type": "stream",
     "text": [
      "[[1 3]\n",
      " [2 4]]\n"
     ]
    }
   ],
   "source": [
    "# Transpose\n",
    "\n",
    "print(A.T)"
   ]
  },
  {
   "cell_type": "code",
   "execution_count": 20,
   "id": "0b7bb9b9-0b47-4255-8893-903de36f0437",
   "metadata": {},
   "outputs": [
    {
     "name": "stdout",
     "output_type": "stream",
     "text": [
      "[[-2.   1. ]\n",
      " [ 1.5 -0.5]]\n"
     ]
    }
   ],
   "source": [
    "# Inverse\n",
    "\n",
    "print(np.linalg.inv(A))"
   ]
  },
  {
   "cell_type": "markdown",
   "id": "b5754b79-b854-49f3-845e-93ed1c3267a7",
   "metadata": {},
   "source": [
    "# Random Number Generation"
   ]
  },
  {
   "cell_type": "code",
   "execution_count": 21,
   "id": "84cf8eb8-55a7-413e-85d6-6c865fb62da2",
   "metadata": {},
   "outputs": [
    {
     "name": "stdout",
     "output_type": "stream",
     "text": [
      "5\n",
      "[-0.36601219 -1.39907743  1.10204523 -0.05953987 -1.58919952]\n"
     ]
    }
   ],
   "source": [
    "# Generate a random integer between 0 and 10\n",
    "random_int = np.random.randint(0, 10)\n",
    "\n",
    "# Generate an array of random numbers from a normal distribution\n",
    "random_arr = np.random.randn(5)\n",
    "\n",
    "print(random_int)\n",
    "print(random_arr)\n"
   ]
  },
  {
   "cell_type": "markdown",
   "id": "554f6005-8f27-4737-b60e-534dfb8f7018",
   "metadata": {},
   "source": [
    "# Concatenating Arrays"
   ]
  },
  {
   "cell_type": "code",
   "execution_count": 22,
   "id": "f2a33228-2779-4d88-9dd1-0eaafdebb73a",
   "metadata": {},
   "outputs": [
    {
     "name": "stdout",
     "output_type": "stream",
     "text": [
      "[1 2 3 4 5 6]\n"
     ]
    }
   ],
   "source": [
    "arr1 = np.array([1, 2, 3])\n",
    "arr2 = np.array([4, 5, 6])\n",
    "\n",
    "# Concatenate two 1D arrays\n",
    "concatenated_arr = np.concatenate([arr1, arr2])\n",
    "print(concatenated_arr)\n"
   ]
  },
  {
   "cell_type": "markdown",
   "id": "030aa20c-59ba-4c25-b837-d7a9c6e43dc6",
   "metadata": {},
   "source": [
    "# Stacking Arrays"
   ]
  },
  {
   "cell_type": "code",
   "execution_count": 23,
   "id": "b465cc0a-7ccd-4d4a-b37f-55ec4ce222a7",
   "metadata": {},
   "outputs": [
    {
     "name": "stdout",
     "output_type": "stream",
     "text": [
      "[[1 2 3]\n",
      " [4 5 6]]\n"
     ]
    }
   ],
   "source": [
    "arr1 = np.array([1, 2, 3])\n",
    "arr2 = np.array([4, 5, 6])\n",
    "\n",
    "# Stack arrays vertically\n",
    "stacked_arr = np.vstack([arr1, arr2])\n",
    "print(stacked_arr)\n"
   ]
  },
  {
   "cell_type": "markdown",
   "id": "8bf45e54-d908-46bb-a39e-2fa80b6d403c",
   "metadata": {},
   "source": [
    "# Handling Missing Data"
   ]
  },
  {
   "cell_type": "code",
   "execution_count": 25,
   "id": "8218cc80-1792-4adf-b46d-61522f19140c",
   "metadata": {},
   "outputs": [
    {
     "name": "stdout",
     "output_type": "stream",
     "text": [
      "[False False  True False]\n"
     ]
    }
   ],
   "source": [
    "# NumPy uses np.nan for missing values.\n",
    "\n",
    "arr = np.array([1, 2, np.nan, 4])\n",
    "print(np.isnan(arr))  # [False False  True False]\n"
   ]
  },
  {
   "cell_type": "code",
   "execution_count": 26,
   "id": "5096f843-8be5-4744-bcb2-7964dd4c45a1",
   "metadata": {},
   "outputs": [
    {
     "name": "stdout",
     "output_type": "stream",
     "text": [
      "[1. 2. 4.]\n"
     ]
    }
   ],
   "source": [
    "# Removing NaN values\n",
    "clean_arr = arr[~np.isnan(arr)]\n",
    "print(clean_arr)"
   ]
  },
  {
   "cell_type": "markdown",
   "id": "55f73a41-5978-4c09-96dd-90fb9e48a710",
   "metadata": {},
   "source": [
    "# Saving & Loading Arrays"
   ]
  },
  {
   "cell_type": "code",
   "execution_count": 27,
   "id": "f3414987-b122-4dd1-b63b-61b79701ec0b",
   "metadata": {},
   "outputs": [
    {
     "name": "stdout",
     "output_type": "stream",
     "text": [
      "[ 1.  2. nan  4.]\n"
     ]
    }
   ],
   "source": [
    "# Save to file\n",
    "np.save('my_array.npy', arr)\n",
    "\n",
    "# Load from file\n",
    "loaded_arr = np.load('my_array.npy')\n",
    "print(loaded_arr)"
   ]
  },
  {
   "cell_type": "markdown",
   "id": "0576b914-8cab-414a-b8e8-c914b92bfa20",
   "metadata": {},
   "source": [
    "# Real-World Data Analytics Example"
   ]
  },
  {
   "cell_type": "code",
   "execution_count": 28,
   "id": "e8aeeb6c-c17e-48bf-a764-2097fd386b7f",
   "metadata": {},
   "outputs": [
    {
     "name": "stdout",
     "output_type": "stream",
     "text": [
      "Mean score: 86.625\n",
      "Standard Deviation: 6.203577596838779\n"
     ]
    }
   ],
   "source": [
    "# A dataset of exam scores\n",
    "scores = np.array([85, 90, 78, 92, 88, 76, 95, 89])\n",
    "\n",
    "# Calculate the mean and standard deviation\n",
    "mean_score = np.mean(scores)\n",
    "std_dev_score = np.std(scores)\n",
    "\n",
    "print(f\"Mean score: {mean_score}\")\n",
    "print(f\"Standard Deviation: {std_dev_score}\")\n"
   ]
  },
  {
   "cell_type": "code",
   "execution_count": 30,
   "id": "04b2eedb-5446-4b3e-9ecf-227f80784807",
   "metadata": {},
   "outputs": [
    {
     "name": "stdout",
     "output_type": "stream",
     "text": [
      "Total sales per product: [850 495 320]\n"
     ]
    }
   ],
   "source": [
    "# Sample sales data (3 products, 5 days)\n",
    "sales = np.array([\n",
    "    [100, 150, 200, 180, 220],  # Product 1\n",
    "    [80, 90, 110, 95, 120],     # Product 2\n",
    "    [50, 60, 70, 65, 75]        # Product 3\n",
    "])\n",
    "\n",
    "# Total sales per product\n",
    "total_sales = np.sum(sales, axis=1)\n",
    "print(\"Total sales per product:\", total_sales)"
   ]
  },
  {
   "cell_type": "code",
   "execution_count": 31,
   "id": "13258f1e-396f-49cf-ae42-32fba123cf3e",
   "metadata": {},
   "outputs": [
    {
     "name": "stdout",
     "output_type": "stream",
     "text": [
      "Average daily sales: [ 76.66666667 100.         126.66666667 113.33333333 138.33333333]\n"
     ]
    }
   ],
   "source": [
    "# Average daily sales\n",
    "avg_daily = np.mean(sales, axis=0)\n",
    "print(\"Average daily sales:\", avg_daily)"
   ]
  },
  {
   "cell_type": "code",
   "execution_count": 32,
   "id": "0ca92f10-b35b-4556-b58e-87a82a5cc5af",
   "metadata": {},
   "outputs": [
    {
     "name": "stdout",
     "output_type": "stream",
     "text": [
      "Best-selling day: 4\n"
     ]
    }
   ],
   "source": [
    "# Best-selling day\n",
    "best_day = np.argmax(np.sum(sales, axis=0))\n",
    "print(\"Best-selling day:\", best_day)"
   ]
  },
  {
   "cell_type": "markdown",
   "id": "39920911-25c5-448b-98fb-f58633183553",
   "metadata": {},
   "source": [
    "# What's Next? "
   ]
  },
  {
   "cell_type": "raw",
   "id": "1b3c8f19-3c0e-4cfa-88e9-75e4bc17dc95",
   "metadata": {},
   "source": [
    "Pandas → Tabular data manipulation\n",
    "\n",
    "Matplotlib/Seaborn → Data visualization\n",
    "\n",
    "Scikit-learn → Machine Learning models"
   ]
  }
 ],
 "metadata": {
  "kernelspec": {
   "display_name": "Python 3 (ipykernel)",
   "language": "python",
   "name": "python3"
  },
  "language_info": {
   "codemirror_mode": {
    "name": "ipython",
    "version": 3
   },
   "file_extension": ".py",
   "mimetype": "text/x-python",
   "name": "python",
   "nbconvert_exporter": "python",
   "pygments_lexer": "ipython3",
   "version": "3.12.7"
  }
 },
 "nbformat": 4,
 "nbformat_minor": 5
}
