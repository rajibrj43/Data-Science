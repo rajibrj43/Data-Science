{
 "cells": [
  {
   "cell_type": "markdown",
   "id": "90fbd5b7-ec33-4912-b369-66b9735d8920",
   "metadata": {},
   "source": [
    "# Numpy Full Tutorial for Data Science and Practice with Real-life Data"
   ]
  },
  {
   "cell_type": "code",
   "execution_count": 3,
   "id": "36275f3c-c92b-401b-9ccf-9a6f891010e3",
   "metadata": {},
   "outputs": [],
   "source": [
    "#Table of Contents\n",
    "#Introduction to Numpy\n",
    "#    What is Numpy?\n",
    "#    Installing Numpy\n",
    "#   Importing Numpy\n",
    "#Numpy Arrays\n",
    "#    Creating Arrays\n",
    "#    Array Indexing and Slicing\n",
    "#    Array Reshaping\n",
    "#Numpy Operations\n",
    "#    Array Operations (addition, multiplication, etc.)\n",
    "#    Broadcasting\n",
    "#Numpy Statistical Functions\n",
    "#    Mean, Median, Standard Deviation, etc.\n",
    "#Numpy and Real-Life Data\n",
    "#    Loading Real-Life Data with Numpy\n",
    "#    Exploratory Data Analysis (EDA)\n",
    "#Practical Example\n",
    "#    Working with a Dataset: Predicting House Prices"
   ]
  },
  {
   "cell_type": "markdown",
   "id": "ede28653-be9b-410a-8e60-f4bb0b4baf2c",
   "metadata": {},
   "source": [
    "# What is Numpy?"
   ]
  },
  {
   "cell_type": "raw",
   "id": "77d22d64-158d-4f6c-a8d2-f6908c45f398",
   "metadata": {},
   "source": [
    "Numpy is one of the most essential libraries for scientific computing in Python, especially for data science tasks. \n",
    "It provides support for large, multi-dimensional arrays and matrices, along with a collection of high-level mathematical functions\n",
    "to operate on these arrays.\n",
    "\n",
    "Moreover, Numpy stands for \"Numerical Python,\" and it's a library for numerical computing. It provides the ndarray object, which is an efficient, fast, and powerful multi-dimensional array object. Numpy allows you to perform element-wise operations, matrix manipulations, and mathematical computations with ease."
   ]
  },
  {
   "cell_type": "markdown",
   "id": "a501940e-c5f6-45ba-a103-5e2750bcb447",
   "metadata": {},
   "source": [
    "# Installing Numpy"
   ]
  },
  {
   "cell_type": "raw",
   "id": "9c415dce-1e9e-4476-888a-0246352e9ffb",
   "metadata": {},
   "source": [
    "pip install numpy"
   ]
  },
  {
   "cell_type": "markdown",
   "id": "e9a7c5cd-fca2-41b3-97b2-bbd38de04fba",
   "metadata": {},
   "source": [
    "# Importing Numpy"
   ]
  },
  {
   "cell_type": "code",
   "execution_count": 6,
   "id": "b49391ee-71ad-4981-b3cf-3b5948d068ff",
   "metadata": {},
   "outputs": [],
   "source": [
    "#In your Python script, you can import Numpy as follows:\n",
    "\n",
    "import numpy as np"
   ]
  },
  {
   "cell_type": "markdown",
   "id": "63f19711-d80f-4f26-87a4-503785a84085",
   "metadata": {},
   "source": [
    "# Creating Numpy Arrays"
   ]
  },
  {
   "cell_type": "code",
   "execution_count": 7,
   "id": "3c55eaeb-a5cf-42ad-80f6-e6f9e087f7f2",
   "metadata": {},
   "outputs": [
    {
     "name": "stdout",
     "output_type": "stream",
     "text": [
      "[1 2 3 4 5]\n",
      "[[1 2]\n",
      " [3 4]\n",
      " [5 6]]\n"
     ]
    }
   ],
   "source": [
    "# Numpy arrays are the fundamental object in Numpy. You can create an array using np.array():\n",
    "\n",
    "import numpy as np\n",
    "\n",
    "# Create a 1D array\n",
    "arr = np.array([1, 2, 3, 4, 5])\n",
    "print(arr)\n",
    "\n",
    "# Create a 2D array (matrix)\n",
    "matrix = np.array([[1, 2], [3, 4], [5, 6]])\n",
    "print(matrix)\n"
   ]
  },
  {
   "cell_type": "markdown",
   "id": "5c58228d-aec7-4ab6-ab02-361b2d44af72",
   "metadata": {},
   "source": [
    "# Array Indexing and Slicing"
   ]
  },
  {
   "cell_type": "code",
   "execution_count": 8,
   "id": "64340412-e4de-468f-8401-245b12abe261",
   "metadata": {},
   "outputs": [
    {
     "name": "stdout",
     "output_type": "stream",
     "text": [
      "1\n",
      "5\n",
      "3\n",
      "[2 3 4]\n"
     ]
    }
   ],
   "source": [
    "# Arrays in Numpy are indexed starting from 0. You can slice arrays similarly to how you would in Python lists:\n",
    "\n",
    "# 1D array indexing\n",
    "print(arr[0])  # First element\n",
    "print(arr[-1])  # Last element\n",
    "\n",
    "# 2D array indexing\n",
    "print(matrix[1, 0])  # Second row, first column\n",
    "\n",
    "# Slicing\n",
    "print(arr[1:4])  # Slice from index 1 to 3\n"
   ]
  },
  {
   "cell_type": "markdown",
   "id": "5cee264b-db90-45fe-b64f-c8082627a8db",
   "metadata": {},
   "source": [
    "# Array Reshaping"
   ]
  },
  {
   "cell_type": "code",
   "execution_count": 9,
   "id": "53195703-392b-49f0-b8e0-5f41f2c73bd1",
   "metadata": {},
   "outputs": [
    {
     "name": "stdout",
     "output_type": "stream",
     "text": [
      "[[1 2 3]\n",
      " [4 5 6]]\n"
     ]
    }
   ],
   "source": [
    "# You can reshape arrays to fit the needs of your calculations:\n",
    "\n",
    "arr = np.array([1, 2, 3, 4, 5, 6])\n",
    "\n",
    "# Reshape to 2x3 matrix\n",
    "reshaped_arr = arr.reshape(2, 3)\n",
    "print(reshaped_arr)\n"
   ]
  },
  {
   "cell_type": "markdown",
   "id": "e2ed4ca4-371f-4e72-ac6a-bf1fba11663b",
   "metadata": {},
   "source": [
    "# Numpy Operations"
   ]
  },
  {
   "cell_type": "code",
   "execution_count": 11,
   "id": "f65d8e46-3eb9-4867-9a67-4a30c75f8d92",
   "metadata": {},
   "outputs": [
    {
     "name": "stdout",
     "output_type": "stream",
     "text": [
      "[5 7 9]\n",
      "[ 4 10 18]\n",
      "[11 12 13]\n",
      "[2 4 6]\n"
     ]
    }
   ],
   "source": [
    "# Array Operations (Addition, Multiplication, etc.)\n",
    "# Numpy supports element-wise operations on arrays:\n",
    "\n",
    "a = np.array([1, 2, 3])\n",
    "b = np.array([4, 5, 6])\n",
    "\n",
    "# Element-wise addition\n",
    "print(a + b)\n",
    "\n",
    "# Element-wise multiplication\n",
    "print(a * b)\n",
    "\n",
    "# Scalar operations\n",
    "print(a + 10)\n",
    "print(a * 2)\n"
   ]
  },
  {
   "cell_type": "markdown",
   "id": "b7cda8a5-ea90-4b9e-87b3-e02734e2af86",
   "metadata": {},
   "source": [
    "# Broadcasting"
   ]
  },
  {
   "cell_type": "code",
   "execution_count": 12,
   "id": "d3ee7f2a-9e08-4ef3-8188-3f2c456b7c24",
   "metadata": {},
   "outputs": [
    {
     "name": "stdout",
     "output_type": "stream",
     "text": [
      "[[2 3 4]\n",
      " [3 4 5]\n",
      " [4 5 6]]\n"
     ]
    }
   ],
   "source": [
    "# Broadcasting refers to the ability to perform operations on arrays of different shapes.\n",
    "# Numpy automatically adjusts the smaller array to the shape of the larger one:\n",
    "\n",
    "a = np.array([1, 2, 3])\n",
    "b = np.array([[1], [2], [3]])\n",
    "\n",
    "# Broadcasting\n",
    "print(a + b)\n"
   ]
  },
  {
   "cell_type": "markdown",
   "id": "cf535891-e9ab-4c3e-a01a-44b11399c61f",
   "metadata": {},
   "source": [
    "# Numpy Statistical Functions"
   ]
  },
  {
   "cell_type": "code",
   "execution_count": 16,
   "id": "3489100e-7c87-4c48-a093-08d2db174747",
   "metadata": {},
   "outputs": [
    {
     "name": "stdout",
     "output_type": "stream",
     "text": [
      "5.0\n",
      "5.0\n",
      "2.581988897471611\n",
      "6.666666666666667\n",
      "45\n",
      "1\n",
      "9\n"
     ]
    }
   ],
   "source": [
    "# Numpy provides a variety of functions to calculate statistics over arrays:\n",
    "\n",
    "data = np.array([1, 2, 3, 4, 5, 6, 7, 8, 9])\n",
    "\n",
    "# Mean\n",
    "print(np.mean(data))\n",
    "\n",
    "# Median\n",
    "print(np.median(data))\n",
    "\n",
    "# Standard Deviation\n",
    "print(np.std(data))\n",
    "\n",
    "# Variance\n",
    "print(np.var(data))\n",
    "\n",
    "# Sum\n",
    "print(np.sum(data))\n",
    "\n",
    "# Minimum/Maximum\n",
    "print(np.min(data))\n",
    "print(np.max(data))\n",
    "\n"
   ]
  },
  {
   "cell_type": "markdown",
   "id": "0b6e0a42-9d72-4f91-9c55-0e7f9cbd69b7",
   "metadata": {},
   "source": [
    "# Numpy and Real-Life Data"
   ]
  },
  {
   "cell_type": "code",
   "execution_count": 18,
   "id": "510ecd2d-5d88-432c-b3a4-27719ace8b5a",
   "metadata": {},
   "outputs": [
    {
     "name": "stdout",
     "output_type": "stream",
     "text": [
      "[[  nan 70.38]\n",
      " [  nan 70.87]\n",
      " [  nan 69.5 ]\n",
      " ...\n",
      " [  nan 26.53]\n",
      " [  nan 26.  ]\n",
      " [  nan 25.56]]\n"
     ]
    }
   ],
   "source": [
    "# In real-life data science, you will often work with datasets that are loaded from CSV files, databases, or other sources. Numpy can help load and manipulate such data.\n",
    "\n",
    "# Loading Real-Life Data with Numpy\n",
    "# You can load CSV data using np.genfromtxt() or np.loadtxt():\n",
    "\n",
    "# Loading a CSV file (useful when working with structured data)\n",
    "data = np.genfromtxt('data.csv', delimiter=',', skip_header=1)\n",
    "print(data)\n",
    "\n",
    "\n",
    "# For structured data, Numpy's np.genfromtxt() allows you to skip headers and deal with missing values."
   ]
  },
  {
   "cell_type": "markdown",
   "id": "0ce164df-1413-4bf6-9825-21e9ec9c7bc5",
   "metadata": {},
   "source": [
    "# Practical Example: Predicting House Prices"
   ]
  },
  {
   "cell_type": "code",
   "execution_count": 19,
   "id": "795d7c10-a4dc-4308-9313-9c36c7b25384",
   "metadata": {},
   "outputs": [],
   "source": [
    "# Let’s walk through a practical example using Numpy to perform some basic data analysis with a real-life dataset: house prices.\n",
    "\n",
    "# Suppose we have a CSV file (house_prices.csv) with the following columns:\n",
    "\n",
    "# Area (in square feet)\n",
    "# Bedrooms (number of bedrooms)\n",
    "# Price (price of the house)\n",
    "\n",
    "# We want to analyze the relationship between area, number of bedrooms, and house price."
   ]
  },
  {
   "cell_type": "code",
   "execution_count": 27,
   "id": "5af67368-ae75-483a-bd86-c3ccefbb70a3",
   "metadata": {},
   "outputs": [],
   "source": [
    "# Load the dataset\n",
    "data = np.genfromtxt('Housing.csv', delimiter=',', skip_header=1)\n"
   ]
  },
  {
   "cell_type": "code",
   "execution_count": 28,
   "id": "5d149a7e-34c8-41a7-8e1a-368fab3a6538",
   "metadata": {},
   "outputs": [],
   "source": [
    "# Extract features (Area and Bedrooms) and target (Price)\n",
    "X = data[:, 0:2]  # Features: Area and Bedrooms\n",
    "y = data[:, 2]  # Target: Price"
   ]
  },
  {
   "cell_type": "code",
   "execution_count": 29,
   "id": "993d6e02-6340-4b5b-8b49-cbee0afbc3bd",
   "metadata": {},
   "outputs": [
    {
     "name": "stdout",
     "output_type": "stream",
     "text": [
      "Mean area: 5150.54128440367\n",
      "Mean price: 4766729.247706422\n"
     ]
    }
   ],
   "source": [
    "# Perform basic statistical analysis\n",
    "print(\"Mean area:\", np.mean(X[:, 0]))\n",
    "print(\"Mean price:\", np.mean(y))\n"
   ]
  },
  {
   "cell_type": "code",
   "execution_count": 30,
   "id": "f80c782b-7a65-42c2-86a4-4af8320a4c9e",
   "metadata": {},
   "outputs": [
    {
     "name": "stdout",
     "output_type": "stream",
     "text": [
      "Correlation between Area and Price: 0.5359973457780797\n"
     ]
    }
   ],
   "source": [
    "# Correlation between area and price\n",
    "correlation = np.corrcoef(X[:, 0], y)[0, 1]\n",
    "print(f\"Correlation between Area and Price: {correlation}\")"
   ]
  },
  {
   "cell_type": "code",
   "execution_count": 31,
   "id": "43aaf3f2-c019-4262-8b4d-4a075789dad5",
   "metadata": {},
   "outputs": [],
   "source": [
    "# Perform a simple linear regression model (Using only area as the predictor)\n",
    "from sklearn.linear_model import LinearRegression\n",
    "model = LinearRegression()"
   ]
  },
  {
   "cell_type": "code",
   "execution_count": 32,
   "id": "a0088e08-7694-4e63-9f7b-43c73e6f699c",
   "metadata": {},
   "outputs": [],
   "source": [
    "# Fit the model\n",
    "model.fit(X[:, [0]], y)  # Using Area as the only feature\n",
    "predictions = model.predict(X[:, [0]])"
   ]
  },
  {
   "cell_type": "code",
   "execution_count": 33,
   "id": "58cfc0cf-9142-40e1-9c14-cc894abfa95a",
   "metadata": {},
   "outputs": [
    {
     "name": "stdout",
     "output_type": "stream",
     "text": [
      "Slope (Coefficient): [461.97489427]\n",
      "Intercept: 2387308.4823964313\n"
     ]
    }
   ],
   "source": [
    "# Print coefficients (slope and intercept)\n",
    "print(\"Slope (Coefficient):\", model.coef_)\n",
    "print(\"Intercept:\", model.intercept_)"
   ]
  },
  {
   "cell_type": "code",
   "execution_count": 37,
   "id": "4bb7a3db-7a67-4929-90f8-edfebbd3fcee",
   "metadata": {},
   "outputs": [
    {
     "data": {
      "image/png": "[encoded data removed]",
      "text/plain": [
       "<Figure size 640x480 with 1 Axes>"
      ]
     },
     "metadata": {},
     "output_type": "display_data"
    }
   ],
   "source": [
    "# Plotting the results\n",
    "import matplotlib.pyplot as plt\n",
    "\n",
    "plt.scatter(X[:, 0], y, color='lightblue', label='Data')\n",
    "plt.plot(X[:, 0], predictions, color='red', label='Linear Regression Line')\n",
    "plt.xlabel(\"Area (in sq. ft.)\")\n",
    "plt.ylabel(\"Price\")\n",
    "plt.title(\"House Price Prediction\")\n",
    "plt.legend()\n",
    "plt.show()"
   ]
  },
  {
   "cell_type": "code",
   "execution_count": null,
   "id": "c5b95663-558d-4485-b0b0-5ac8d70efb7c",
   "metadata": {},
   "outputs": [],
   "source": []
  }
 ],
 "metadata": {
  "kernelspec": {
   "display_name": "Python 3 (ipykernel)",
   "language": "python",
   "name": "python3"
  },
  "language_info": {
   "codemirror_mode": {
    "name": "ipython",
    "version": 3
   },
   "file_extension": ".py",
   "mimetype": "text/x-python",
   "name": "python",
   "nbconvert_exporter": "python",
   "pygments_lexer": "ipython3",
   "version": "3.12.7"
  }
 },
 "nbformat": 4,
 "nbformat_minor": 5
}
